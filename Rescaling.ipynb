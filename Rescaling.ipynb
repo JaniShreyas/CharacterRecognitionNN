{
 "cells": [
  {
   "cell_type": "code",
   "execution_count": 1,
   "metadata": {},
   "outputs": [
    {
     "ename": "error",
     "evalue": "OpenCV(4.8.0) D:\\a\\opencv-python\\opencv-python\\opencv\\modules\\imgproc\\src\\color.cpp:182: error: (-215:Assertion failed) !_src.empty() in function 'cv::cvtColor'\n",
     "output_type": "error",
     "traceback": [
      "\u001b[1;31m---------------------------------------------------------------------------\u001b[0m",
      "\u001b[1;31merror\u001b[0m                                     Traceback (most recent call last)",
      "\u001b[1;32md:\\Shreyas\\ML Projects\\CharacterRecognitionNN\\Rescaling.ipynb Cell 1\u001b[0m line \u001b[0;36m7\n\u001b[0;32m      <a href='vscode-notebook-cell:/d%3A/Shreyas/ML%20Projects/CharacterRecognitionNN/Rescaling.ipynb#W0sZmlsZQ%3D%3D?line=3'>4</a>\u001b[0m \u001b[39m# Read image\u001b[39;00m\n\u001b[0;32m      <a href='vscode-notebook-cell:/d%3A/Shreyas/ML%20Projects/CharacterRecognitionNN/Rescaling.ipynb#W0sZmlsZQ%3D%3D?line=4'>5</a>\u001b[0m image \u001b[39m=\u001b[39m cv2\u001b[39m.\u001b[39mimread(\u001b[39m'\u001b[39m\u001b[39mtestImage.jpeg\u001b[39m\u001b[39m'\u001b[39m)\n\u001b[1;32m----> <a href='vscode-notebook-cell:/d%3A/Shreyas/ML%20Projects/CharacterRecognitionNN/Rescaling.ipynb#W0sZmlsZQ%3D%3D?line=6'>7</a>\u001b[0m grayscale \u001b[39m=\u001b[39m cv2\u001b[39m.\u001b[39;49mcvtColor(image, cv2\u001b[39m.\u001b[39;49mCOLOR_BGR2GRAY)\n\u001b[0;32m      <a href='vscode-notebook-cell:/d%3A/Shreyas/ML%20Projects/CharacterRecognitionNN/Rescaling.ipynb#W0sZmlsZQ%3D%3D?line=8'>9</a>\u001b[0m \u001b[39m# Resize the image to 28x28\u001b[39;00m\n\u001b[0;32m     <a href='vscode-notebook-cell:/d%3A/Shreyas/ML%20Projects/CharacterRecognitionNN/Rescaling.ipynb#W0sZmlsZQ%3D%3D?line=9'>10</a>\u001b[0m resized_image \u001b[39m=\u001b[39m cv2\u001b[39m.\u001b[39mresize(grayscale, (\u001b[39m28\u001b[39m, \u001b[39m28\u001b[39m))\n",
      "\u001b[1;31merror\u001b[0m: OpenCV(4.8.0) D:\\a\\opencv-python\\opencv-python\\opencv\\modules\\imgproc\\src\\color.cpp:182: error: (-215:Assertion failed) !_src.empty() in function 'cv::cvtColor'\n"
     ]
    }
   ],
   "source": [
    "import cv2\n",
    "import numpy as np\n",
    "\n",
    "# Read image\n",
    "image = cv2.imread('testImage.jpeg')\n",
    "\n",
    "grayscale = cv2.cvtColor(image, cv2.COLOR_BGR2GRAY)\n",
    "\n",
    "# Resize the image to 28x28\n",
    "resized_image = cv2.resize(grayscale, (28, 28))\n",
    "\n",
    "cv2.imwrite(\"resized_image.jpg\", resized_image)"
   ]
  }
 ],
 "metadata": {
  "kernelspec": {
   "display_name": "jupyter",
   "language": "python",
   "name": "python3"
  },
  "language_info": {
   "codemirror_mode": {
    "name": "ipython",
    "version": 3
   },
   "file_extension": ".py",
   "mimetype": "text/x-python",
   "name": "python",
   "nbconvert_exporter": "python",
   "pygments_lexer": "ipython3",
   "version": "3.10.13"
  },
  "orig_nbformat": 4
 },
 "nbformat": 4,
 "nbformat_minor": 2
}
