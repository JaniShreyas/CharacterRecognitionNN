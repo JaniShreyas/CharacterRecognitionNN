{
 "cells": [
  {
   "cell_type": "code",
   "execution_count": 1,
   "metadata": {},
   "outputs": [],
   "source": [
    "import numpy as np\n",
    "import matplotlib.pyplot as plt\n",
    "import pandas as pd\n",
    "from tensorflow import keras\n",
    "from sklearn.model_selection import train_test_split\n",
    "from sklearn.decomposition import PCA"
   ]
  },
  {
   "cell_type": "code",
   "execution_count": 2,
   "metadata": {},
   "outputs": [
    {
     "data": {
      "text/plain": [
       "pandas.core.frame.DataFrame"
      ]
     },
     "execution_count": 2,
     "metadata": {},
     "output_type": "execute_result"
    }
   ],
   "source": [
    "df = pd.read_csv(\"handwritten_data_785.csv\")\n",
    "type(df)"
   ]
  },
  {
   "cell_type": "code",
   "execution_count": 3,
   "metadata": {},
   "outputs": [],
   "source": [
    "arr = np.array(df)\n",
    "data = arr[:, 1:] / 255\n",
    "target = arr[:, 0]"
   ]
  },
  {
   "cell_type": "code",
   "execution_count": 4,
   "metadata": {},
   "outputs": [],
   "source": [
    "# input = keras.layers.Input(shape=[784])\n",
    "# hidden1 = keras.layers.Dense(300, activation=keras.activations.relu)(input)\n",
    "# hidden2 = keras.layers.Dense(100, activation=keras.activations.relu)(hidden1)\n",
    "# output = keras.layers.Dense(26, activation=keras.activations.softmax)(hidden2)\n",
    "# model = keras.Model(inputs = input, outputs = output)\n",
    "\n",
    "# model.compile(loss = keras.losses.sparse_categorical_crossentropy, optimizer=keras.optimizers.SGD(), metrics = keras.metrics.Accuracy())\n",
    "\n",
    "XTrainFull, XTest, yTrainFull, yTest = train_test_split(data, target)\n",
    "XTrain, XValid, yTrain, yValid = train_test_split(XTrainFull, yTrainFull)"
   ]
  },
  {
   "cell_type": "code",
   "execution_count": 5,
   "metadata": {},
   "outputs": [
    {
     "name": "stdout",
     "output_type": "stream",
     "text": [
      "Epoch 1/30\n",
      "6540/6540 [==============================] - 19s 3ms/step - loss: 0.7245 - accuracy: 0.8089 - val_loss: 0.4348 - val_accuracy: 0.8837\n",
      "Epoch 2/30\n",
      "6540/6540 [==============================] - 14s 2ms/step - loss: 0.3673 - accuracy: 0.9032 - val_loss: 0.3099 - val_accuracy: 0.9189\n",
      "Epoch 3/30\n",
      "6540/6540 [==============================] - 15s 2ms/step - loss: 0.2729 - accuracy: 0.9281 - val_loss: 0.2454 - val_accuracy: 0.9344\n",
      "Epoch 4/30\n",
      "6540/6540 [==============================] - 17s 3ms/step - loss: 0.2219 - accuracy: 0.9422 - val_loss: 0.2096 - val_accuracy: 0.9448\n",
      "Epoch 5/30\n",
      "6540/6540 [==============================] - 17s 3ms/step - loss: 0.1902 - accuracy: 0.9502 - val_loss: 0.1857 - val_accuracy: 0.9502\n",
      "Epoch 6/30\n",
      "6540/6540 [==============================] - 15s 2ms/step - loss: 0.1682 - accuracy: 0.9561 - val_loss: 0.1766 - val_accuracy: 0.9523\n",
      "Epoch 7/30\n",
      "6540/6540 [==============================] - 15s 2ms/step - loss: 0.1510 - accuracy: 0.9608 - val_loss: 0.1582 - val_accuracy: 0.9577\n",
      "Epoch 8/30\n",
      "6540/6540 [==============================] - 16s 2ms/step - loss: 0.1379 - accuracy: 0.9640 - val_loss: 0.1463 - val_accuracy: 0.9611\n",
      "Epoch 9/30\n",
      "6540/6540 [==============================] - 16s 2ms/step - loss: 0.1273 - accuracy: 0.9676 - val_loss: 0.1412 - val_accuracy: 0.9615\n",
      "Epoch 10/30\n",
      "6540/6540 [==============================] - 18s 3ms/step - loss: 0.1181 - accuracy: 0.9698 - val_loss: 0.1316 - val_accuracy: 0.9656\n",
      "Epoch 11/30\n",
      "6540/6540 [==============================] - 18s 3ms/step - loss: 0.1103 - accuracy: 0.9717 - val_loss: 0.1258 - val_accuracy: 0.9666\n",
      "Epoch 12/30\n",
      "6540/6540 [==============================] - 16s 3ms/step - loss: 0.1034 - accuracy: 0.9737 - val_loss: 0.1207 - val_accuracy: 0.9669\n",
      "Epoch 13/30\n",
      "6540/6540 [==============================] - 16s 3ms/step - loss: 0.0978 - accuracy: 0.9752 - val_loss: 0.1187 - val_accuracy: 0.9682\n",
      "Epoch 14/30\n",
      "6540/6540 [==============================] - 16s 2ms/step - loss: 0.0926 - accuracy: 0.9766 - val_loss: 0.1155 - val_accuracy: 0.9692\n",
      "Epoch 15/30\n",
      "6540/6540 [==============================] - 15s 2ms/step - loss: 0.0876 - accuracy: 0.9780 - val_loss: 0.1111 - val_accuracy: 0.9705\n",
      "Epoch 16/30\n",
      "6540/6540 [==============================] - 16s 2ms/step - loss: 0.0834 - accuracy: 0.9787 - val_loss: 0.1077 - val_accuracy: 0.9717\n",
      "Epoch 17/30\n",
      "6540/6540 [==============================] - 16s 2ms/step - loss: 0.0793 - accuracy: 0.9800 - val_loss: 0.1035 - val_accuracy: 0.9724\n",
      "Epoch 18/30\n",
      "6540/6540 [==============================] - 15s 2ms/step - loss: 0.0758 - accuracy: 0.9808 - val_loss: 0.1055 - val_accuracy: 0.9718\n",
      "Epoch 19/30\n",
      "6540/6540 [==============================] - 15s 2ms/step - loss: 0.0721 - accuracy: 0.9819 - val_loss: 0.1021 - val_accuracy: 0.9729\n",
      "Epoch 20/30\n",
      "6540/6540 [==============================] - 15s 2ms/step - loss: 0.0692 - accuracy: 0.9827 - val_loss: 0.0989 - val_accuracy: 0.9736\n",
      "Epoch 21/30\n",
      "6540/6540 [==============================] - 15s 2ms/step - loss: 0.0657 - accuracy: 0.9839 - val_loss: 0.0968 - val_accuracy: 0.9748\n",
      "Epoch 22/30\n",
      "6540/6540 [==============================] - 16s 2ms/step - loss: 0.0630 - accuracy: 0.9843 - val_loss: 0.0970 - val_accuracy: 0.9746\n",
      "Epoch 23/30\n",
      "6540/6540 [==============================] - 15s 2ms/step - loss: 0.0603 - accuracy: 0.9851 - val_loss: 0.0945 - val_accuracy: 0.9750\n",
      "Epoch 24/30\n",
      "6540/6540 [==============================] - 16s 3ms/step - loss: 0.0575 - accuracy: 0.9860 - val_loss: 0.1001 - val_accuracy: 0.9729\n",
      "Epoch 25/30\n",
      "6540/6540 [==============================] - 20s 3ms/step - loss: 0.0552 - accuracy: 0.9867 - val_loss: 0.0944 - val_accuracy: 0.9755\n",
      "Epoch 26/30\n",
      "6540/6540 [==============================] - 19s 3ms/step - loss: 0.0529 - accuracy: 0.9872 - val_loss: 0.0919 - val_accuracy: 0.9757\n",
      "Epoch 27/30\n",
      "6540/6540 [==============================] - 18s 3ms/step - loss: 0.0508 - accuracy: 0.9879 - val_loss: 0.0914 - val_accuracy: 0.9762\n",
      "Epoch 28/30\n",
      "6540/6540 [==============================] - 17s 3ms/step - loss: 0.0486 - accuracy: 0.9886 - val_loss: 0.0896 - val_accuracy: 0.9763\n",
      "Epoch 29/30\n",
      "6540/6540 [==============================] - 18s 3ms/step - loss: 0.0465 - accuracy: 0.9891 - val_loss: 0.0904 - val_accuracy: 0.9772\n",
      "Epoch 30/30\n",
      "6540/6540 [==============================] - 18s 3ms/step - loss: 0.0448 - accuracy: 0.9893 - val_loss: 0.0912 - val_accuracy: 0.9760\n"
     ]
    }
   ],
   "source": [
    "# Build a simple mlp model\n",
    "input = keras.layers.Input(shape=[784])\n",
    "hidden1 = keras.layers.Dense(300, activation=keras.activations.relu)(input)\n",
    "hidden2 = keras.layers.Dense(100, activation=keras.activations.relu)(hidden1)\n",
    "output = keras.layers.Dense(26, activation=keras.activations.softmax)(hidden2)\n",
    "model = keras.Model(inputs=input, outputs=output)\n",
    "\n",
    "model.compile(\n",
    "    loss=\"sparse_categorical_crossentropy\",\n",
    "    optimizer=keras.optimizers.SGD(),\n",
    "    metrics=[\"accuracy\"],\n",
    ")\n",
    "\n",
    "history = model.fit(XTrain, yTrain, epochs=30, validation_data=(XValid, yValid))"
   ]
  },
  {
   "cell_type": "code",
   "execution_count": 6,
   "metadata": {},
   "outputs": [
    {
     "name": "stdout",
     "output_type": "stream",
     "text": [
      "1/1 [==============================] - 0s 140ms/step\n",
      "[[0.   0.   0.   0.   0.   0.   0.   0.   0.   0.   0.   0.   0.   0.\n",
      "  0.   1.   0.   0.   0.   0.   0.   0.   0.   0.   0.   0.  ]\n",
      " [0.   0.   0.   0.   0.   0.   0.   0.   0.   0.   0.   0.   0.   0.\n",
      "  0.   0.   0.   1.   0.   0.   0.   0.   0.   0.   0.   0.  ]\n",
      " [0.   0.   0.   0.   0.   0.   0.   0.   0.   0.   0.   0.98 0.   0.\n",
      "  0.   0.   0.   0.   0.   0.   0.   0.   0.   0.   0.   0.02]]\n",
      "[15, 17, 11]\n"
     ]
    }
   ],
   "source": [
    "yPred = model.predict(XTest[:3]).round(2)\n",
    "print(yPred)\n",
    "print(\n",
    "    [\n",
    "        j\n",
    "        for i in range(len(yPred))\n",
    "        for j in range(len(yPred[0]))\n",
    "        if yPred[i, j] == max(yPred[i])\n",
    "    ]\n",
    ")"
   ]
  },
  {
   "cell_type": "code",
   "execution_count": 7,
   "metadata": {},
   "outputs": [
    {
     "name": "stdout",
     "output_type": "stream",
     "text": [
      "Epoch 1/30\n",
      "6540/6540 [==============================] - 13s 2ms/step - loss: 1.3086 - accuracy: 0.6304 - val_loss: 0.7510 - val_accuracy: 0.7918\n",
      "Epoch 2/30\n",
      "6540/6540 [==============================] - 10s 2ms/step - loss: 0.6402 - accuracy: 0.8248 - val_loss: 0.5624 - val_accuracy: 0.8497\n",
      "Epoch 3/30\n",
      "6540/6540 [==============================] - 10s 2ms/step - loss: 0.5141 - accuracy: 0.8613 - val_loss: 0.4686 - val_accuracy: 0.8735\n",
      "Epoch 4/30\n",
      "6540/6540 [==============================] - 11s 2ms/step - loss: 0.4391 - accuracy: 0.8833 - val_loss: 0.4060 - val_accuracy: 0.8917\n",
      "Epoch 5/30\n",
      "6540/6540 [==============================] - 11s 2ms/step - loss: 0.3879 - accuracy: 0.8980 - val_loss: 0.3691 - val_accuracy: 0.8993\n",
      "Epoch 6/30\n",
      "6540/6540 [==============================] - 10s 1ms/step - loss: 0.3544 - accuracy: 0.9064 - val_loss: 0.3414 - val_accuracy: 0.9090\n",
      "Epoch 7/30\n",
      "6540/6540 [==============================] - 10s 1ms/step - loss: 0.3301 - accuracy: 0.9128 - val_loss: 0.3232 - val_accuracy: 0.9134\n",
      "Epoch 8/30\n",
      "6540/6540 [==============================] - 9s 1ms/step - loss: 0.3118 - accuracy: 0.9176 - val_loss: 0.3075 - val_accuracy: 0.9170\n",
      "Epoch 9/30\n",
      "6540/6540 [==============================] - 10s 2ms/step - loss: 0.2978 - accuracy: 0.9210 - val_loss: 0.2955 - val_accuracy: 0.9218\n",
      "Epoch 10/30\n",
      "6540/6540 [==============================] - 11s 2ms/step - loss: 0.2869 - accuracy: 0.9241 - val_loss: 0.2890 - val_accuracy: 0.9238\n",
      "Epoch 11/30\n",
      "6540/6540 [==============================] - 10s 2ms/step - loss: 0.2782 - accuracy: 0.9259 - val_loss: 0.3010 - val_accuracy: 0.9206\n",
      "Epoch 12/30\n",
      "6540/6540 [==============================] - 9s 1ms/step - loss: 0.2708 - accuracy: 0.9280 - val_loss: 0.2838 - val_accuracy: 0.9244\n",
      "Epoch 13/30\n",
      "6540/6540 [==============================] - 10s 1ms/step - loss: 0.2641 - accuracy: 0.9297 - val_loss: 0.2709 - val_accuracy: 0.9272\n",
      "Epoch 14/30\n",
      "6540/6540 [==============================] - 10s 2ms/step - loss: 0.2589 - accuracy: 0.9312 - val_loss: 0.2655 - val_accuracy: 0.9293\n",
      "Epoch 15/30\n",
      "6540/6540 [==============================] - 11s 2ms/step - loss: 0.2545 - accuracy: 0.9325 - val_loss: 0.2739 - val_accuracy: 0.9269\n",
      "Epoch 16/30\n",
      "6540/6540 [==============================] - 10s 2ms/step - loss: 0.2502 - accuracy: 0.9337 - val_loss: 0.2621 - val_accuracy: 0.9302\n",
      "Epoch 17/30\n",
      "6540/6540 [==============================] - 10s 2ms/step - loss: 0.2471 - accuracy: 0.9344 - val_loss: 0.2539 - val_accuracy: 0.9327\n",
      "Epoch 18/30\n",
      "6540/6540 [==============================] - 11s 2ms/step - loss: 0.2437 - accuracy: 0.9352 - val_loss: 0.2588 - val_accuracy: 0.9312\n",
      "Epoch 19/30\n",
      "6540/6540 [==============================] - 11s 2ms/step - loss: 0.2413 - accuracy: 0.9359 - val_loss: 0.2594 - val_accuracy: 0.9303\n",
      "Epoch 20/30\n",
      "6540/6540 [==============================] - 10s 1ms/step - loss: 0.2385 - accuracy: 0.9364 - val_loss: 0.2581 - val_accuracy: 0.9306\n",
      "Epoch 21/30\n",
      "6540/6540 [==============================] - 10s 2ms/step - loss: 0.2358 - accuracy: 0.9372 - val_loss: 0.2511 - val_accuracy: 0.9320\n",
      "Epoch 22/30\n",
      "6540/6540 [==============================] - 11s 2ms/step - loss: 0.2337 - accuracy: 0.9377 - val_loss: 0.2546 - val_accuracy: 0.9328\n",
      "Epoch 23/30\n",
      "6540/6540 [==============================] - 10s 2ms/step - loss: 0.2315 - accuracy: 0.9379 - val_loss: 0.2500 - val_accuracy: 0.9324\n",
      "Epoch 24/30\n",
      "6540/6540 [==============================] - 11s 2ms/step - loss: 0.2296 - accuracy: 0.9387 - val_loss: 0.2520 - val_accuracy: 0.9325\n",
      "Epoch 25/30\n",
      "6540/6540 [==============================] - 10s 2ms/step - loss: 0.2278 - accuracy: 0.9390 - val_loss: 0.2439 - val_accuracy: 0.9352\n",
      "Epoch 26/30\n",
      "6540/6540 [==============================] - 10s 1ms/step - loss: 0.2259 - accuracy: 0.9397 - val_loss: 0.2494 - val_accuracy: 0.9334\n",
      "Epoch 27/30\n",
      "6540/6540 [==============================] - 10s 2ms/step - loss: 0.2240 - accuracy: 0.9407 - val_loss: 0.2463 - val_accuracy: 0.9342\n",
      "Epoch 28/30\n",
      "6540/6540 [==============================] - 10s 2ms/step - loss: 0.2223 - accuracy: 0.9406 - val_loss: 0.2450 - val_accuracy: 0.9354\n",
      "Epoch 29/30\n",
      "6540/6540 [==============================] - 9s 1ms/step - loss: 0.2203 - accuracy: 0.9415 - val_loss: 0.2403 - val_accuracy: 0.9360\n",
      "Epoch 30/30\n",
      "6540/6540 [==============================] - 10s 1ms/step - loss: 0.2186 - accuracy: 0.9416 - val_loss: 0.2424 - val_accuracy: 0.9351\n"
     ]
    }
   ],
   "source": [
    "input = keras.layers.Input(shape=[784])\n",
    "hidden1 = keras.layers.Dense(30, activation=keras.activations.relu)(input)\n",
    "hidden2 = keras.layers.Dense(10, activation=keras.activations.relu)(hidden1)\n",
    "output = keras.layers.Dense(26, activation=keras.activations.softmax)(hidden2)\n",
    "model1 = keras.Model(inputs=input, outputs=output)\n",
    "\n",
    "model1.compile(\n",
    "    loss=\"sparse_categorical_crossentropy\",\n",
    "    optimizer=keras.optimizers.SGD(),\n",
    "    metrics=[\"accuracy\"],\n",
    ")\n",
    "\n",
    "history = model1.fit(XTrain, yTrain, epochs=30, validation_data=(XValid, yValid))"
   ]
  },
  {
   "cell_type": "code",
   "execution_count": 8,
   "metadata": {},
   "outputs": [
    {
     "name": "stdout",
     "output_type": "stream",
     "text": [
      "1/1 [==============================] - 0s 106ms/step\n",
      "[15, 17, 11]\n",
      "[15 17 11]\n"
     ]
    }
   ],
   "source": [
    "yPred = model1.predict(XTest[:3])\n",
    "print(\n",
    "    [\n",
    "        j\n",
    "        for i in range(len(yPred))\n",
    "        for j in range(len(yPred[0]))\n",
    "        if yPred[i, j] == max(yPred[i])\n",
    "    ]\n",
    ")\n",
    "print(yTest[:3])"
   ]
  },
  {
   "cell_type": "code",
   "execution_count": 9,
   "metadata": {},
   "outputs": [],
   "source": [
    "pca = PCA(n_components=400)\n",
    "pca.fit(XTrain)\n",
    "variance = pca.explained_variance_\n",
    "# pd.DataFrame(variance).to_csv('Explained_variance.csv')"
   ]
  },
  {
   "cell_type": "code",
   "execution_count": 10,
   "metadata": {},
   "outputs": [
    {
     "data": {
      "text/plain": [
       "(400, 784)"
      ]
     },
     "execution_count": 10,
     "metadata": {},
     "output_type": "execute_result"
    }
   ],
   "source": [
    "components = pca.components_\n",
    "components.shape"
   ]
  },
  {
   "cell_type": "code",
   "execution_count": 11,
   "metadata": {},
   "outputs": [],
   "source": [
    "XTrain = np.matmul(components, XTrain.T)\n",
    "XValid = np.matmul(components, XValid.T)\n",
    "XTest = np.matmul(components, XTest.T)"
   ]
  },
  {
   "cell_type": "code",
   "execution_count": 12,
   "metadata": {},
   "outputs": [
    {
     "name": "stdout",
     "output_type": "stream",
     "text": [
      "(209270, 400) (69757, 400) (93010, 400)\n"
     ]
    }
   ],
   "source": [
    "XTrain = XTrain.T\n",
    "XValid = XValid.T\n",
    "XTest = XTest.T\n",
    "\n",
    "print(XTrain.shape, XValid.shape, XTest.shape)"
   ]
  },
  {
   "cell_type": "code",
   "execution_count": 13,
   "metadata": {},
   "outputs": [
    {
     "name": "stdout",
     "output_type": "stream",
     "text": [
      "Epoch 1/35\n",
      "6540/6540 [==============================] - 14s 2ms/step - loss: 0.7139 - accuracy: 0.8111 - val_loss: 0.4304 - val_accuracy: 0.8862\n",
      "Epoch 2/35\n",
      "6540/6540 [==============================] - 13s 2ms/step - loss: 0.3586 - accuracy: 0.9051 - val_loss: 0.3076 - val_accuracy: 0.9180\n",
      "Epoch 3/35\n",
      "6540/6540 [==============================] - 13s 2ms/step - loss: 0.2693 - accuracy: 0.9291 - val_loss: 0.2493 - val_accuracy: 0.9324\n",
      "Epoch 4/35\n",
      "6540/6540 [==============================] - 13s 2ms/step - loss: 0.2192 - accuracy: 0.9424 - val_loss: 0.2069 - val_accuracy: 0.9441\n",
      "Epoch 5/35\n",
      "6540/6540 [==============================] - 13s 2ms/step - loss: 0.1884 - accuracy: 0.9508 - val_loss: 0.1861 - val_accuracy: 0.9501\n",
      "Epoch 6/35\n",
      "6540/6540 [==============================] - 13s 2ms/step - loss: 0.1667 - accuracy: 0.9563 - val_loss: 0.1697 - val_accuracy: 0.9541\n",
      "Epoch 7/35\n",
      "6540/6540 [==============================] - 13s 2ms/step - loss: 0.1503 - accuracy: 0.9605 - val_loss: 0.1602 - val_accuracy: 0.9570\n",
      "Epoch 8/35\n",
      "6540/6540 [==============================] - 12s 2ms/step - loss: 0.1374 - accuracy: 0.9646 - val_loss: 0.1472 - val_accuracy: 0.9607\n",
      "Epoch 9/35\n",
      "6540/6540 [==============================] - 13s 2ms/step - loss: 0.1268 - accuracy: 0.9674 - val_loss: 0.1366 - val_accuracy: 0.9634\n",
      "Epoch 10/35\n",
      "6540/6540 [==============================] - 14s 2ms/step - loss: 0.1175 - accuracy: 0.9700 - val_loss: 0.1370 - val_accuracy: 0.9626\n",
      "Epoch 11/35\n",
      "6540/6540 [==============================] - 14s 2ms/step - loss: 0.1100 - accuracy: 0.9719 - val_loss: 0.1247 - val_accuracy: 0.9669\n",
      "Epoch 12/35\n",
      "6540/6540 [==============================] - 14s 2ms/step - loss: 0.1035 - accuracy: 0.9735 - val_loss: 0.1249 - val_accuracy: 0.9662\n",
      "Epoch 13/35\n",
      "6540/6540 [==============================] - 13s 2ms/step - loss: 0.0971 - accuracy: 0.9752 - val_loss: 0.1220 - val_accuracy: 0.9672\n",
      "Epoch 14/35\n",
      "6540/6540 [==============================] - 13s 2ms/step - loss: 0.0916 - accuracy: 0.9767 - val_loss: 0.1166 - val_accuracy: 0.9687\n",
      "Epoch 15/35\n",
      "6540/6540 [==============================] - 14s 2ms/step - loss: 0.0868 - accuracy: 0.9776 - val_loss: 0.1111 - val_accuracy: 0.9707\n",
      "Epoch 16/35\n",
      "6540/6540 [==============================] - 14s 2ms/step - loss: 0.0823 - accuracy: 0.9792 - val_loss: 0.1090 - val_accuracy: 0.9709\n",
      "Epoch 17/35\n",
      "6540/6540 [==============================] - 14s 2ms/step - loss: 0.0783 - accuracy: 0.9801 - val_loss: 0.1049 - val_accuracy: 0.9726\n",
      "Epoch 18/35\n",
      "6540/6540 [==============================] - 14s 2ms/step - loss: 0.0745 - accuracy: 0.9811 - val_loss: 0.1032 - val_accuracy: 0.9724\n",
      "Epoch 19/35\n",
      "6540/6540 [==============================] - 14s 2ms/step - loss: 0.0708 - accuracy: 0.9820 - val_loss: 0.1015 - val_accuracy: 0.9732\n",
      "Epoch 20/35\n",
      "6540/6540 [==============================] - 14s 2ms/step - loss: 0.0674 - accuracy: 0.9832 - val_loss: 0.1012 - val_accuracy: 0.9734\n",
      "Epoch 21/35\n",
      "6540/6540 [==============================] - 13s 2ms/step - loss: 0.0644 - accuracy: 0.9839 - val_loss: 0.1013 - val_accuracy: 0.9725\n",
      "Epoch 22/35\n",
      "6540/6540 [==============================] - 13s 2ms/step - loss: 0.0613 - accuracy: 0.9848 - val_loss: 0.0952 - val_accuracy: 0.9749\n",
      "Epoch 23/35\n",
      "6540/6540 [==============================] - 15s 2ms/step - loss: 0.0589 - accuracy: 0.9855 - val_loss: 0.0990 - val_accuracy: 0.9739\n",
      "Epoch 24/35\n",
      "6540/6540 [==============================] - 14s 2ms/step - loss: 0.0562 - accuracy: 0.9861 - val_loss: 0.0966 - val_accuracy: 0.9743\n",
      "Epoch 25/35\n",
      "6540/6540 [==============================] - 13s 2ms/step - loss: 0.0538 - accuracy: 0.9869 - val_loss: 0.0923 - val_accuracy: 0.9761\n",
      "Epoch 26/35\n",
      "6540/6540 [==============================] - 13s 2ms/step - loss: 0.0517 - accuracy: 0.9877 - val_loss: 0.0908 - val_accuracy: 0.9767\n",
      "Epoch 27/35\n",
      "6540/6540 [==============================] - 14s 2ms/step - loss: 0.0491 - accuracy: 0.9881 - val_loss: 0.0982 - val_accuracy: 0.9741\n",
      "Epoch 28/35\n",
      "6540/6540 [==============================] - 14s 2ms/step - loss: 0.0473 - accuracy: 0.9887 - val_loss: 0.0900 - val_accuracy: 0.9764\n",
      "Epoch 29/35\n",
      "6540/6540 [==============================] - 14s 2ms/step - loss: 0.0453 - accuracy: 0.9894 - val_loss: 0.0904 - val_accuracy: 0.9764\n",
      "Epoch 30/35\n",
      "6540/6540 [==============================] - 14s 2ms/step - loss: 0.0434 - accuracy: 0.9899 - val_loss: 0.0870 - val_accuracy: 0.9782\n",
      "Epoch 31/35\n",
      "6540/6540 [==============================] - 14s 2ms/step - loss: 0.0416 - accuracy: 0.9903 - val_loss: 0.0896 - val_accuracy: 0.9774\n",
      "Epoch 32/35\n",
      "6540/6540 [==============================] - 14s 2ms/step - loss: 0.0399 - accuracy: 0.9908 - val_loss: 0.0915 - val_accuracy: 0.9769\n",
      "Epoch 33/35\n",
      "6540/6540 [==============================] - 13s 2ms/step - loss: 0.0383 - accuracy: 0.9914 - val_loss: 0.0882 - val_accuracy: 0.9775\n",
      "Epoch 34/35\n",
      "6540/6540 [==============================] - 13s 2ms/step - loss: 0.0368 - accuracy: 0.9919 - val_loss: 0.0860 - val_accuracy: 0.9783\n",
      "Epoch 35/35\n",
      "6540/6540 [==============================] - 13s 2ms/step - loss: 0.0354 - accuracy: 0.9922 - val_loss: 0.0860 - val_accuracy: 0.9789\n"
     ]
    }
   ],
   "source": [
    "input = keras.layers.Input(shape=[400])\n",
    "hidden1 = keras.layers.Dense(300, activation=keras.activations.relu)(input)\n",
    "hidden2 = keras.layers.Dense(100, activation=keras.activations.relu)(hidden1)\n",
    "output = keras.layers.Dense(26, activation=keras.activations.softmax)(hidden2)\n",
    "modelWithPca = keras.Model(inputs=input, outputs=output)\n",
    "\n",
    "modelWithPca.compile(\n",
    "    loss=\"sparse_categorical_crossentropy\",\n",
    "    optimizer=keras.optimizers.SGD(),\n",
    "    metrics=[\"accuracy\"],\n",
    ")\n",
    "history = modelWithPca.fit(XTrain, yTrain, epochs=35, validation_data=(XValid, yValid))"
   ]
  },
  {
   "cell_type": "code",
   "execution_count": 14,
   "metadata": {},
   "outputs": [
    {
     "name": "stdout",
     "output_type": "stream",
     "text": [
      "2907/2907 [==============================] - 4s 1ms/step - loss: 0.0884 - accuracy: 0.9791\n"
     ]
    },
    {
     "data": {
      "text/plain": [
       "[0.08838532119989395, 0.9790882468223572]"
      ]
     },
     "execution_count": 14,
     "metadata": {},
     "output_type": "execute_result"
    }
   ],
   "source": [
    "modelWithPca.evaluate(XTest, yTest)"
   ]
  },
  {
   "cell_type": "code",
   "execution_count": 16,
   "metadata": {},
   "outputs": [
    {
     "name": "stdout",
     "output_type": "stream",
     "text": [
      "Epoch 1/30\n",
      "6540/6540 [==============================] - 10s 2ms/step - loss: 1.3012 - accuracy: 0.6267 - val_loss: 0.7859 - val_accuracy: 0.7755\n",
      "Epoch 2/30\n",
      "6540/6540 [==============================] - 9s 1ms/step - loss: 0.6508 - accuracy: 0.8194 - val_loss: 0.5455 - val_accuracy: 0.8488\n",
      "Epoch 3/30\n",
      "6540/6540 [==============================] - 9s 1ms/step - loss: 0.4921 - accuracy: 0.8663 - val_loss: 0.4839 - val_accuracy: 0.8664\n",
      "Epoch 4/30\n",
      "6540/6540 [==============================] - 9s 1ms/step - loss: 0.4180 - accuracy: 0.8863 - val_loss: 0.3861 - val_accuracy: 0.8970\n",
      "Epoch 5/30\n",
      "6540/6540 [==============================] - 11s 2ms/step - loss: 0.3740 - accuracy: 0.8993 - val_loss: 0.3713 - val_accuracy: 0.8995\n",
      "Epoch 6/30\n",
      "6540/6540 [==============================] - 9s 1ms/step - loss: 0.3457 - accuracy: 0.9078 - val_loss: 0.3435 - val_accuracy: 0.9093\n",
      "Epoch 7/30\n",
      "6540/6540 [==============================] - 9s 1ms/step - loss: 0.3246 - accuracy: 0.9137 - val_loss: 0.3176 - val_accuracy: 0.9149\n",
      "Epoch 8/30\n",
      "6540/6540 [==============================] - 9s 1ms/step - loss: 0.3083 - accuracy: 0.9176 - val_loss: 0.3063 - val_accuracy: 0.9186\n",
      "Epoch 9/30\n",
      "6540/6540 [==============================] - 9s 1ms/step - loss: 0.2950 - accuracy: 0.9219 - val_loss: 0.3035 - val_accuracy: 0.9183\n",
      "Epoch 10/30\n",
      "6540/6540 [==============================] - 9s 1ms/step - loss: 0.2838 - accuracy: 0.9242 - val_loss: 0.2970 - val_accuracy: 0.9207\n",
      "Epoch 11/30\n",
      "6540/6540 [==============================] - 9s 1ms/step - loss: 0.2751 - accuracy: 0.9268 - val_loss: 0.2835 - val_accuracy: 0.9245\n",
      "Epoch 12/30\n",
      "6540/6540 [==============================] - 9s 1ms/step - loss: 0.2681 - accuracy: 0.9282 - val_loss: 0.2791 - val_accuracy: 0.9249\n",
      "Epoch 13/30\n",
      "6540/6540 [==============================] - 9s 1ms/step - loss: 0.2613 - accuracy: 0.9299 - val_loss: 0.2728 - val_accuracy: 0.9279\n",
      "Epoch 14/30\n",
      "6540/6540 [==============================] - 9s 1ms/step - loss: 0.2552 - accuracy: 0.9322 - val_loss: 0.2709 - val_accuracy: 0.9280\n",
      "Epoch 15/30\n",
      "6540/6540 [==============================] - 9s 1ms/step - loss: 0.2492 - accuracy: 0.9339 - val_loss: 0.2642 - val_accuracy: 0.9292\n",
      "Epoch 16/30\n",
      "6540/6540 [==============================] - 9s 1ms/step - loss: 0.2451 - accuracy: 0.9345 - val_loss: 0.2628 - val_accuracy: 0.9292\n",
      "Epoch 17/30\n",
      "6540/6540 [==============================] - 9s 1ms/step - loss: 0.2399 - accuracy: 0.9360 - val_loss: 0.2523 - val_accuracy: 0.9325\n",
      "Epoch 18/30\n",
      "6540/6540 [==============================] - 9s 1ms/step - loss: 0.2364 - accuracy: 0.9366 - val_loss: 0.2553 - val_accuracy: 0.9312\n",
      "Epoch 19/30\n",
      "6540/6540 [==============================] - 9s 1ms/step - loss: 0.2323 - accuracy: 0.9379 - val_loss: 0.2544 - val_accuracy: 0.9308\n",
      "Epoch 20/30\n",
      "6540/6540 [==============================] - 9s 1ms/step - loss: 0.2287 - accuracy: 0.9388 - val_loss: 0.2471 - val_accuracy: 0.9345\n",
      "Epoch 21/30\n",
      "6540/6540 [==============================] - 9s 1ms/step - loss: 0.2248 - accuracy: 0.9399 - val_loss: 0.2433 - val_accuracy: 0.9354\n",
      "Epoch 22/30\n",
      "6540/6540 [==============================] - 9s 1ms/step - loss: 0.2217 - accuracy: 0.9408 - val_loss: 0.2478 - val_accuracy: 0.9341\n",
      "Epoch 23/30\n",
      "6540/6540 [==============================] - 9s 1ms/step - loss: 0.2185 - accuracy: 0.9414 - val_loss: 0.2375 - val_accuracy: 0.9359\n",
      "Epoch 24/30\n",
      "6540/6540 [==============================] - 9s 1ms/step - loss: 0.2154 - accuracy: 0.9422 - val_loss: 0.2370 - val_accuracy: 0.9368\n",
      "Epoch 25/30\n",
      "6540/6540 [==============================] - 9s 1ms/step - loss: 0.2128 - accuracy: 0.9425 - val_loss: 0.2311 - val_accuracy: 0.9376\n",
      "Epoch 26/30\n",
      "6540/6540 [==============================] - 9s 1ms/step - loss: 0.2097 - accuracy: 0.9436 - val_loss: 0.2322 - val_accuracy: 0.9367\n",
      "Epoch 27/30\n",
      "6540/6540 [==============================] - 9s 1ms/step - loss: 0.2068 - accuracy: 0.9442 - val_loss: 0.2292 - val_accuracy: 0.9379\n",
      "Epoch 28/30\n",
      "6540/6540 [==============================] - 9s 1ms/step - loss: 0.2042 - accuracy: 0.9446 - val_loss: 0.2269 - val_accuracy: 0.9393\n",
      "Epoch 29/30\n",
      "6540/6540 [==============================] - 9s 1ms/step - loss: 0.2024 - accuracy: 0.9455 - val_loss: 0.2180 - val_accuracy: 0.9408\n",
      "Epoch 30/30\n",
      "6540/6540 [==============================] - 9s 1ms/step - loss: 0.1999 - accuracy: 0.9459 - val_loss: 0.2263 - val_accuracy: 0.9393\n"
     ]
    }
   ],
   "source": [
    "input = keras.layers.Input(shape=[400])\n",
    "hidden1 = keras.layers.Dense(30, activation=keras.activations.relu)(input)\n",
    "hidden2 = keras.layers.Dense(30, activation=keras.activations.relu)(hidden1)\n",
    "hidden3 = keras.layers.Dense(10, activation=keras.activations.relu)(hidden2)\n",
    "output = keras.layers.Dense(26, activation=keras.activations.softmax)(hidden3)\n",
    "modelWithPca = keras.Model(inputs=input, outputs=output)\n",
    "\n",
    "modelWithPca.compile(\n",
    "    loss=\"sparse_categorical_crossentropy\",\n",
    "    optimizer=keras.optimizers.SGD(),\n",
    "    metrics=[\"accuracy\"],\n",
    ")\n",
    "history = modelWithPca.fit(XTrain, yTrain, epochs=30, validation_data=(XValid, yValid))"
   ]
  },
  {
   "cell_type": "code",
   "execution_count": 17,
   "metadata": {},
   "outputs": [
    {
     "name": "stdout",
     "output_type": "stream",
     "text": [
      "2907/2907 [==============================] - 3s 985us/step - loss: 0.2315 - accuracy: 0.9397\n"
     ]
    },
    {
     "data": {
      "text/plain": [
       "[0.2315283566713333, 0.9397376775741577]"
      ]
     },
     "execution_count": 17,
     "metadata": {},
     "output_type": "execute_result"
    }
   ],
   "source": [
    "modelWithPca.evaluate(XTest, yTest)"
   ]
  }
 ],
 "metadata": {
  "kernelspec": {
   "display_name": "base",
   "language": "python",
   "name": "python3"
  },
  "language_info": {
   "codemirror_mode": {
    "name": "ipython",
    "version": 3
   },
   "file_extension": ".py",
   "mimetype": "text/x-python",
   "name": "python",
   "nbconvert_exporter": "python",
   "pygments_lexer": "ipython3",
   "version": "3.10.9"
  },
  "orig_nbformat": 4
 },
 "nbformat": 4,
 "nbformat_minor": 2
}
