{
 "cells": [
  {
   "cell_type": "markdown",
   "metadata": {},
   "source": [
    "Necessary Imports"
   ]
  },
  {
   "cell_type": "code",
   "execution_count": 2,
   "metadata": {},
   "outputs": [],
   "source": [
    "import numpy as np\n",
    "import matplotlib.pyplot as plt\n",
    "import pandas as pd\n",
    "from tensorflow import keras\n",
    "from sklearn.model_selection import train_test_split\n",
    "from sklearn.decomposition import PCA"
   ]
  },
  {
   "cell_type": "markdown",
   "metadata": {},
   "source": [
    "Reading the data from the csv"
   ]
  },
  {
   "cell_type": "code",
   "execution_count": 3,
   "metadata": {},
   "outputs": [
    {
     "data": {
      "text/plain": [
       "pandas.core.frame.DataFrame"
      ]
     },
     "execution_count": 3,
     "metadata": {},
     "output_type": "execute_result"
    }
   ],
   "source": [
    "df = pd.read_csv(\"handwritten_data_785.csv\")\n",
    "type(df)"
   ]
  },
  {
   "cell_type": "markdown",
   "metadata": {},
   "source": [
    "Separating the Image data and Labels"
   ]
  },
  {
   "cell_type": "code",
   "execution_count": 4,
   "metadata": {},
   "outputs": [],
   "source": [
    "arr = np.array(df)\n",
    "data = arr[:, 1:] / 255\n",
    "target = arr[:, 0]"
   ]
  },
  {
   "cell_type": "markdown",
   "metadata": {},
   "source": [
    "Train-Test Split"
   ]
  },
  {
   "cell_type": "code",
   "execution_count": 5,
   "metadata": {},
   "outputs": [],
   "source": [
    "XTrainFull, XTest, yTrainFull, yTest = train_test_split(data, target)\n",
    "XTrain, XValid, yTrain, yValid = train_test_split(XTrainFull, yTrainFull)"
   ]
  },
  {
   "cell_type": "markdown",
   "metadata": {},
   "source": [
    "Simply training the data without any changes\n",
    "2 hidden layers with 300 and 100 neurons each"
   ]
  },
  {
   "cell_type": "code",
   "execution_count": 8,
   "metadata": {},
   "outputs": [
    {
     "name": "stdout",
     "output_type": "stream",
     "text": [
      "Epoch 1/30\n",
      "6540/6540 [==============================] - 21s 3ms/step - loss: 0.7192 - accuracy: 0.8102 - val_loss: 0.4311 - val_accuracy: 0.8842\n",
      "Epoch 2/30\n",
      "6540/6540 [==============================] - 17s 3ms/step - loss: 0.3647 - accuracy: 0.9034 - val_loss: 0.3063 - val_accuracy: 0.9178\n",
      "Epoch 3/30\n",
      "6540/6540 [==============================] - 17s 3ms/step - loss: 0.2728 - accuracy: 0.9278 - val_loss: 0.2439 - val_accuracy: 0.9350\n",
      "Epoch 4/30\n",
      "6540/6540 [==============================] - 18s 3ms/step - loss: 0.2214 - accuracy: 0.9417 - val_loss: 0.2039 - val_accuracy: 0.9461\n",
      "Epoch 5/30\n",
      "6540/6540 [==============================] - 17s 3ms/step - loss: 0.1892 - accuracy: 0.9500 - val_loss: 0.1793 - val_accuracy: 0.9526\n",
      "Epoch 6/30\n",
      "6540/6540 [==============================] - 17s 3ms/step - loss: 0.1668 - accuracy: 0.9564 - val_loss: 0.1652 - val_accuracy: 0.9568\n",
      "Epoch 7/30\n",
      "6540/6540 [==============================] - 18s 3ms/step - loss: 0.1503 - accuracy: 0.9605 - val_loss: 0.1516 - val_accuracy: 0.9600\n",
      "Epoch 8/30\n",
      "6540/6540 [==============================] - 17s 3ms/step - loss: 0.1370 - accuracy: 0.9642 - val_loss: 0.1461 - val_accuracy: 0.9603\n",
      "Epoch 9/30\n",
      "6540/6540 [==============================] - 18s 3ms/step - loss: 0.1264 - accuracy: 0.9672 - val_loss: 0.1371 - val_accuracy: 0.9633\n",
      "Epoch 10/30\n",
      "6540/6540 [==============================] - 17s 3ms/step - loss: 0.1174 - accuracy: 0.9697 - val_loss: 0.1293 - val_accuracy: 0.9665\n",
      "Epoch 11/30\n",
      "6540/6540 [==============================] - 18s 3ms/step - loss: 0.1101 - accuracy: 0.9717 - val_loss: 0.1241 - val_accuracy: 0.9676\n",
      "Epoch 12/30\n",
      "6540/6540 [==============================] - 17s 3ms/step - loss: 0.1033 - accuracy: 0.9736 - val_loss: 0.1205 - val_accuracy: 0.9682\n",
      "Epoch 13/30\n",
      "6540/6540 [==============================] - 17s 3ms/step - loss: 0.0975 - accuracy: 0.9750 - val_loss: 0.1259 - val_accuracy: 0.9659\n",
      "Epoch 14/30\n",
      "6540/6540 [==============================] - 17s 3ms/step - loss: 0.0922 - accuracy: 0.9767 - val_loss: 0.1113 - val_accuracy: 0.9705\n",
      "Epoch 15/30\n",
      "6540/6540 [==============================] - 17s 3ms/step - loss: 0.0876 - accuracy: 0.9777 - val_loss: 0.1076 - val_accuracy: 0.9717\n",
      "Epoch 16/30\n",
      "6540/6540 [==============================] - 18s 3ms/step - loss: 0.0834 - accuracy: 0.9789 - val_loss: 0.1055 - val_accuracy: 0.9722\n",
      "Epoch 17/30\n",
      "6540/6540 [==============================] - 18s 3ms/step - loss: 0.0792 - accuracy: 0.9799 - val_loss: 0.1052 - val_accuracy: 0.9721\n",
      "Epoch 18/30\n",
      "6540/6540 [==============================] - 18s 3ms/step - loss: 0.0757 - accuracy: 0.9810 - val_loss: 0.1003 - val_accuracy: 0.9735\n",
      "Epoch 19/30\n",
      "6540/6540 [==============================] - 18s 3ms/step - loss: 0.0722 - accuracy: 0.9818 - val_loss: 0.1014 - val_accuracy: 0.9731\n",
      "Epoch 20/30\n",
      "6540/6540 [==============================] - 18s 3ms/step - loss: 0.0691 - accuracy: 0.9828 - val_loss: 0.0977 - val_accuracy: 0.9741\n",
      "Epoch 21/30\n",
      "6540/6540 [==============================] - 18s 3ms/step - loss: 0.0659 - accuracy: 0.9835 - val_loss: 0.0973 - val_accuracy: 0.9743\n",
      "Epoch 22/30\n",
      "6540/6540 [==============================] - 18s 3ms/step - loss: 0.0631 - accuracy: 0.9843 - val_loss: 0.0930 - val_accuracy: 0.9754\n",
      "Epoch 23/30\n",
      "6540/6540 [==============================] - 18s 3ms/step - loss: 0.0603 - accuracy: 0.9853 - val_loss: 0.0943 - val_accuracy: 0.9753\n",
      "Epoch 24/30\n",
      "6540/6540 [==============================] - 18s 3ms/step - loss: 0.0580 - accuracy: 0.9856 - val_loss: 0.0914 - val_accuracy: 0.9758\n",
      "Epoch 25/30\n",
      "6540/6540 [==============================] - 18s 3ms/step - loss: 0.0555 - accuracy: 0.9865 - val_loss: 0.0934 - val_accuracy: 0.9753\n",
      "Epoch 26/30\n",
      "6540/6540 [==============================] - 18s 3ms/step - loss: 0.0530 - accuracy: 0.9871 - val_loss: 0.0878 - val_accuracy: 0.9773\n",
      "Epoch 27/30\n",
      "6540/6540 [==============================] - 18s 3ms/step - loss: 0.0509 - accuracy: 0.9879 - val_loss: 0.0898 - val_accuracy: 0.9763\n",
      "Epoch 28/30\n",
      "6540/6540 [==============================] - 18s 3ms/step - loss: 0.0488 - accuracy: 0.9883 - val_loss: 0.0889 - val_accuracy: 0.9767\n",
      "Epoch 29/30\n",
      "6540/6540 [==============================] - 18s 3ms/step - loss: 0.0469 - accuracy: 0.9889 - val_loss: 0.0885 - val_accuracy: 0.9767\n",
      "Epoch 30/30\n",
      "6540/6540 [==============================] - 18s 3ms/step - loss: 0.0450 - accuracy: 0.9895 - val_loss: 0.0843 - val_accuracy: 0.9780\n"
     ]
    }
   ],
   "source": [
    "# Build a simple mlp model\n",
    "input = keras.layers.Input(shape=[784])\n",
    "hidden1 = keras.layers.Dense(300, activation=keras.activations.relu)(input)\n",
    "hidden2 = keras.layers.Dense(100, activation=keras.activations.relu)(hidden1)\n",
    "output = keras.layers.Dense(26, activation=keras.activations.softmax)(hidden2)\n",
    "model = keras.Model(inputs=input, outputs=output)\n",
    "\n",
    "model.compile(\n",
    "    loss=\"sparse_categorical_crossentropy\",\n",
    "    optimizer=keras.optimizers.SGD(),\n",
    "    metrics=[\"accuracy\"],\n",
    ")\n",
    "\n",
    "history = model.fit(XTrain, yTrain, epochs=30, validation_data=(XValid, yValid))"
   ]
  },
  {
   "cell_type": "markdown",
   "metadata": {},
   "source": [
    "Evaluating the model"
   ]
  },
  {
   "cell_type": "code",
   "execution_count": 9,
   "metadata": {},
   "outputs": [
    {
     "name": "stdout",
     "output_type": "stream",
     "text": [
      "2907/2907 [==============================] - 5s 2ms/step - loss: 0.0896 - accuracy: 0.9774\n"
     ]
    },
    {
     "data": {
      "text/plain": [
       "[0.08964746445417404, 0.977378785610199]"
      ]
     },
     "execution_count": 9,
     "metadata": {},
     "output_type": "execute_result"
    }
   ],
   "source": [
    "model.evaluate(XTest, yTest)"
   ]
  },
  {
   "cell_type": "markdown",
   "metadata": {},
   "source": [
    "Visually checking the image to see whether prediction is correct"
   ]
  },
  {
   "cell_type": "code",
   "execution_count": 12,
   "metadata": {},
   "outputs": [
    {
     "data": {
      "text/plain": [
       "<matplotlib.image.AxesImage at 0x2ab8815eb90>"
      ]
     },
     "execution_count": 12,
     "metadata": {},
     "output_type": "execute_result"
    },
    {
     "data": {
      "image/png": "[encoded data removed]",
      "text/plain": [
       "<Figure size 640x480 with 1 Axes>"
      ]
     },
     "metadata": {},
     "output_type": "display_data"
    }
   ],
   "source": [
    "example = XTest[0]\n",
    "example = example.reshape((28,28))\n",
    "plt.imshow(example, cmap='gray')"
   ]
  },
  {
   "cell_type": "markdown",
   "metadata": {},
   "source": [
    "The prediction"
   ]
  },
  {
   "cell_type": "code",
   "execution_count": 10,
   "metadata": {},
   "outputs": [
    {
     "name": "stdout",
     "output_type": "stream",
     "text": [
      "1/1 [==============================] - 1s 745ms/step\n",
      "[[0. 0. 0. 0. 1. 0. 0. 0. 0. 0. 0. 0. 0. 0. 0. 0. 0. 0. 0. 0. 0. 0. 0. 0.\n",
      "  0. 0.]\n",
      " [0. 0. 0. 0. 0. 0. 0. 0. 0. 0. 0. 0. 0. 0. 0. 1. 0. 0. 0. 0. 0. 0. 0. 0.\n",
      "  0. 0.]\n",
      " [0. 0. 0. 0. 0. 0. 0. 0. 0. 0. 0. 0. 0. 0. 0. 0. 0. 0. 0. 1. 0. 0. 0. 0.\n",
      "  0. 0.]]\n",
      "[4, 15, 19]\n"
     ]
    }
   ],
   "source": [
    "yPred = model.predict(XTest[:3]).round(2)\n",
    "print(yPred)\n",
    "print(\n",
    "    [\n",
    "        j\n",
    "        for i in range(len(yPred))\n",
    "        for j in range(len(yPred[0]))\n",
    "        if yPred[i, j] == max(yPred[i])\n",
    "    ]\n",
    ")"
   ]
  },
  {
   "cell_type": "markdown",
   "metadata": {},
   "source": [
    "Training the data with 10 times less neurons in the hidden layers to see the difference in training time and accuracy"
   ]
  },
  {
   "cell_type": "code",
   "execution_count": 13,
   "metadata": {},
   "outputs": [
    {
     "name": "stdout",
     "output_type": "stream",
     "text": [
      "Epoch 1/30\n",
      "6540/6540 [==============================] - 58s 9ms/step - loss: 1.0885 - accuracy: 0.6959 - val_loss: 0.6299 - val_accuracy: 0.8243\n",
      "Epoch 2/30\n",
      "6540/6540 [==============================] - 12s 2ms/step - loss: 0.5494 - accuracy: 0.8518 - val_loss: 0.4794 - val_accuracy: 0.8710\n",
      "Epoch 3/30\n",
      "6540/6540 [==============================] - 12s 2ms/step - loss: 0.4555 - accuracy: 0.8782 - val_loss: 0.4218 - val_accuracy: 0.8875\n",
      "Epoch 4/30\n",
      "6540/6540 [==============================] - 12s 2ms/step - loss: 0.4093 - accuracy: 0.8908 - val_loss: 0.4051 - val_accuracy: 0.8903\n",
      "Epoch 5/30\n",
      "6540/6540 [==============================] - 12s 2ms/step - loss: 0.3790 - accuracy: 0.8988 - val_loss: 0.3935 - val_accuracy: 0.8908\n",
      "Epoch 6/30\n",
      "6540/6540 [==============================] - 12s 2ms/step - loss: 0.3570 - accuracy: 0.9043 - val_loss: 0.3571 - val_accuracy: 0.9039\n",
      "Epoch 7/30\n",
      "6540/6540 [==============================] - 12s 2ms/step - loss: 0.3399 - accuracy: 0.9084 - val_loss: 0.3352 - val_accuracy: 0.9100\n",
      "Epoch 8/30\n",
      "6540/6540 [==============================] - 12s 2ms/step - loss: 0.3259 - accuracy: 0.9126 - val_loss: 0.3306 - val_accuracy: 0.9107\n",
      "Epoch 9/30\n",
      "6540/6540 [==============================] - 12s 2ms/step - loss: 0.3136 - accuracy: 0.9155 - val_loss: 0.3185 - val_accuracy: 0.9139\n",
      "Epoch 10/30\n",
      "6540/6540 [==============================] - 12s 2ms/step - loss: 0.3023 - accuracy: 0.9190 - val_loss: 0.3053 - val_accuracy: 0.9171\n",
      "Epoch 11/30\n",
      "6540/6540 [==============================] - 11s 2ms/step - loss: 0.2924 - accuracy: 0.9219 - val_loss: 0.2973 - val_accuracy: 0.9190\n",
      "Epoch 12/30\n",
      "6540/6540 [==============================] - 12s 2ms/step - loss: 0.2835 - accuracy: 0.9239 - val_loss: 0.2893 - val_accuracy: 0.9219\n",
      "Epoch 13/30\n",
      "6540/6540 [==============================] - 12s 2ms/step - loss: 0.2753 - accuracy: 0.9261 - val_loss: 0.2785 - val_accuracy: 0.9248\n",
      "Epoch 14/30\n",
      "6540/6540 [==============================] - 12s 2ms/step - loss: 0.2684 - accuracy: 0.9281 - val_loss: 0.2705 - val_accuracy: 0.9275\n",
      "Epoch 15/30\n",
      "6540/6540 [==============================] - 12s 2ms/step - loss: 0.2617 - accuracy: 0.9301 - val_loss: 0.2685 - val_accuracy: 0.9272\n",
      "Epoch 16/30\n",
      "6540/6540 [==============================] - 12s 2ms/step - loss: 0.2566 - accuracy: 0.9314 - val_loss: 0.2633 - val_accuracy: 0.9293\n",
      "Epoch 17/30\n",
      "6540/6540 [==============================] - 11s 2ms/step - loss: 0.2509 - accuracy: 0.9328 - val_loss: 0.2600 - val_accuracy: 0.9308\n",
      "Epoch 18/30\n",
      "6540/6540 [==============================] - 12s 2ms/step - loss: 0.2460 - accuracy: 0.9340 - val_loss: 0.2573 - val_accuracy: 0.9300\n",
      "Epoch 19/30\n",
      "6540/6540 [==============================] - 12s 2ms/step - loss: 0.2416 - accuracy: 0.9353 - val_loss: 0.2537 - val_accuracy: 0.9314\n",
      "Epoch 20/30\n",
      "6540/6540 [==============================] - 12s 2ms/step - loss: 0.2374 - accuracy: 0.9363 - val_loss: 0.2518 - val_accuracy: 0.9323\n",
      "Epoch 21/30\n",
      "6540/6540 [==============================] - 12s 2ms/step - loss: 0.2340 - accuracy: 0.9376 - val_loss: 0.2478 - val_accuracy: 0.9342\n",
      "Epoch 22/30\n",
      "6540/6540 [==============================] - 12s 2ms/step - loss: 0.2308 - accuracy: 0.9384 - val_loss: 0.2395 - val_accuracy: 0.9364\n",
      "Epoch 23/30\n",
      "6540/6540 [==============================] - 12s 2ms/step - loss: 0.2277 - accuracy: 0.9387 - val_loss: 0.2474 - val_accuracy: 0.9333\n",
      "Epoch 24/30\n",
      "6540/6540 [==============================] - 12s 2ms/step - loss: 0.2247 - accuracy: 0.9399 - val_loss: 0.2425 - val_accuracy: 0.9347\n",
      "Epoch 25/30\n",
      "6540/6540 [==============================] - 12s 2ms/step - loss: 0.2218 - accuracy: 0.9403 - val_loss: 0.2365 - val_accuracy: 0.9375\n",
      "Epoch 26/30\n",
      "6540/6540 [==============================] - 12s 2ms/step - loss: 0.2197 - accuracy: 0.9416 - val_loss: 0.2355 - val_accuracy: 0.9381\n",
      "Epoch 27/30\n",
      "6540/6540 [==============================] - 12s 2ms/step - loss: 0.2165 - accuracy: 0.9421 - val_loss: 0.2345 - val_accuracy: 0.9366\n",
      "Epoch 28/30\n",
      "6540/6540 [==============================] - 12s 2ms/step - loss: 0.2149 - accuracy: 0.9427 - val_loss: 0.2301 - val_accuracy: 0.9389\n",
      "Epoch 29/30\n",
      "6540/6540 [==============================] - 11s 2ms/step - loss: 0.2127 - accuracy: 0.9433 - val_loss: 0.2284 - val_accuracy: 0.9399\n",
      "Epoch 30/30\n",
      "6540/6540 [==============================] - 11s 2ms/step - loss: 0.2107 - accuracy: 0.9434 - val_loss: 0.2267 - val_accuracy: 0.9406\n"
     ]
    }
   ],
   "source": [
    "input = keras.layers.Input(shape=[784])\n",
    "hidden1 = keras.layers.Dense(30, activation=keras.activations.relu)(input)\n",
    "hidden2 = keras.layers.Dense(10, activation=keras.activations.relu)(hidden1)\n",
    "output = keras.layers.Dense(26, activation=keras.activations.softmax)(hidden2)\n",
    "model1 = keras.Model(inputs=input, outputs=output)\n",
    "\n",
    "model1.compile(\n",
    "    loss=\"sparse_categorical_crossentropy\",\n",
    "    optimizer=keras.optimizers.SGD(),\n",
    "    metrics=[\"accuracy\"],\n",
    ")\n",
    "\n",
    "history = model1.fit(XTrain, yTrain, epochs=30, validation_data=(XValid, yValid))"
   ]
  },
  {
   "cell_type": "markdown",
   "metadata": {},
   "source": [
    "Evaluating the model"
   ]
  },
  {
   "cell_type": "code",
   "execution_count": 14,
   "metadata": {},
   "outputs": [
    {
     "name": "stdout",
     "output_type": "stream",
     "text": [
      "2907/2907 [==============================] - 4s 1ms/step - loss: 0.2327 - accuracy: 0.9387\n"
     ]
    },
    {
     "data": {
      "text/plain": [
       "[0.23269116878509521, 0.9387485384941101]"
      ]
     },
     "execution_count": 14,
     "metadata": {},
     "output_type": "execute_result"
    }
   ],
   "source": [
    "model1.evaluate(XTest, yTest)"
   ]
  },
  {
   "cell_type": "code",
   "execution_count": 15,
   "metadata": {},
   "outputs": [
    {
     "name": "stdout",
     "output_type": "stream",
     "text": [
      "1/1 [==============================] - 0s 227ms/step\n",
      "[4, 15, 19]\n",
      "[ 4 15 19]\n"
     ]
    }
   ],
   "source": [
    "yPred = model1.predict(XTest[:3])\n",
    "print(\n",
    "    [\n",
    "        j\n",
    "        for i in range(len(yPred))\n",
    "        for j in range(len(yPred[0]))\n",
    "        if yPred[i, j] == max(yPred[i])\n",
    "    ]\n",
    ")\n",
    "print(yTest[:3])"
   ]
  },
  {
   "cell_type": "markdown",
   "metadata": {},
   "source": [
    "Applying Feature extraction using Principal Component Analysis on the data to reduce complexity of the model"
   ]
  },
  {
   "cell_type": "markdown",
   "metadata": {},
   "source": [
    "Fitting the data and Plotting the Scree Graph to find the optimal dimensionality"
   ]
  },
  {
   "cell_type": "code",
   "execution_count": 16,
   "metadata": {},
   "outputs": [
    {
     "data": {
      "text/plain": [
       "[<matplotlib.lines.Line2D at 0x2ab88419310>]"
      ]
     },
     "execution_count": 16,
     "metadata": {},
     "output_type": "execute_result"
    },
    {
     "data": {
      "image/png": "[encoded data removed]",
      "text/plain": [
       "<Figure size 640x480 with 1 Axes>"
      ]
     },
     "metadata": {},
     "output_type": "display_data"
    }
   ],
   "source": [
    "pca = PCA()\n",
    "pca.fit(XTrain)\n",
    "variance = pca.explained_variance_\n",
    "\n",
    "plt.plot(variance)"
   ]
  },
  {
   "cell_type": "markdown",
   "metadata": {},
   "source": [
    "Since the Graph flattens at approximately 80 dimensions, that's what we will go with"
   ]
  },
  {
   "cell_type": "code",
   "execution_count": 17,
   "metadata": {},
   "outputs": [],
   "source": [
    "pca = PCA(n_components=80)\n",
    "pca.fit(XTrain)\n",
    "variance = pca.explained_variance_\n",
    "# pd.DataFrame(variance).to_csv('Explained_variance.csv')"
   ]
  },
  {
   "cell_type": "markdown",
   "metadata": {},
   "source": [
    "We can still reduce more but it is not really needed (80 to 70 will not give that much of a difference)"
   ]
  },
  {
   "cell_type": "code",
   "execution_count": 18,
   "metadata": {},
   "outputs": [
    {
     "data": {
      "text/plain": [
       "[<matplotlib.lines.Line2D at 0x2ab88183c90>]"
      ]
     },
     "execution_count": 18,
     "metadata": {},
     "output_type": "execute_result"
    },
    {
     "data": {
      "image/png": "[encoded data removed]",
      "text/plain": [
       "<Figure size 640x480 with 1 Axes>"
      ]
     },
     "metadata": {},
     "output_type": "display_data"
    }
   ],
   "source": [
    "plt.plot(variance, \"r-\")"
   ]
  },
  {
   "cell_type": "markdown",
   "metadata": {},
   "source": [
    "Components is the matrix containing the 80 Eigen Vectors with the largest Eigen Values"
   ]
  },
  {
   "cell_type": "code",
   "execution_count": 19,
   "metadata": {},
   "outputs": [
    {
     "data": {
      "text/plain": [
       "(80, 784)"
      ]
     },
     "execution_count": 19,
     "metadata": {},
     "output_type": "execute_result"
    }
   ],
   "source": [
    "components = pca.components_\n",
    "components.shape"
   ]
  },
  {
   "cell_type": "markdown",
   "metadata": {},
   "source": [
    "Transforming XTrain, XValid and XTest from 784 to 80 dimensions"
   ]
  },
  {
   "cell_type": "code",
   "execution_count": 20,
   "metadata": {},
   "outputs": [],
   "source": [
    "XTrainTransformed = pca.transform(XTrain)\n",
    "XValidTransformed = pca.transform(XValid)\n",
    "XTestTransformed = pca.transform(XTest)"
   ]
  },
  {
   "cell_type": "markdown",
   "metadata": {},
   "source": [
    "Training on the same model as the first one just with the decrease in inputs"
   ]
  },
  {
   "cell_type": "code",
   "execution_count": 21,
   "metadata": {},
   "outputs": [
    {
     "name": "stdout",
     "output_type": "stream",
     "text": [
      "Epoch 1/30\n",
      "6540/6540 [==============================] - 14s 2ms/step - loss: 0.6922 - accuracy: 0.8149 - val_loss: 0.3588 - val_accuracy: 0.9037\n",
      "Epoch 2/30\n",
      "6540/6540 [==============================] - 13s 2ms/step - loss: 0.3044 - accuracy: 0.9183 - val_loss: 0.2542 - val_accuracy: 0.9319\n",
      "Epoch 3/30\n",
      "6540/6540 [==============================] - 13s 2ms/step - loss: 0.2305 - accuracy: 0.9386 - val_loss: 0.2072 - val_accuracy: 0.9443\n",
      "Epoch 4/30\n",
      "6540/6540 [==============================] - 13s 2ms/step - loss: 0.1922 - accuracy: 0.9488 - val_loss: 0.1798 - val_accuracy: 0.9515\n",
      "Epoch 5/30\n",
      "6540/6540 [==============================] - 13s 2ms/step - loss: 0.1676 - accuracy: 0.9556 - val_loss: 0.1623 - val_accuracy: 0.9564\n",
      "Epoch 6/30\n",
      "6540/6540 [==============================] - 13s 2ms/step - loss: 0.1504 - accuracy: 0.9606 - val_loss: 0.1510 - val_accuracy: 0.9593\n",
      "Epoch 7/30\n",
      "6540/6540 [==============================] - 12s 2ms/step - loss: 0.1374 - accuracy: 0.9643 - val_loss: 0.1404 - val_accuracy: 0.9623\n",
      "Epoch 8/30\n",
      "6540/6540 [==============================] - 13s 2ms/step - loss: 0.1272 - accuracy: 0.9668 - val_loss: 0.1324 - val_accuracy: 0.9643\n",
      "Epoch 9/30\n",
      "6540/6540 [==============================] - 13s 2ms/step - loss: 0.1185 - accuracy: 0.9692 - val_loss: 0.1274 - val_accuracy: 0.9661\n",
      "Epoch 10/30\n",
      "6540/6540 [==============================] - 13s 2ms/step - loss: 0.1113 - accuracy: 0.9712 - val_loss: 0.1224 - val_accuracy: 0.9672\n",
      "Epoch 11/30\n",
      "6540/6540 [==============================] - 12s 2ms/step - loss: 0.1051 - accuracy: 0.9728 - val_loss: 0.1171 - val_accuracy: 0.9685\n",
      "Epoch 12/30\n",
      "6540/6540 [==============================] - 12s 2ms/step - loss: 0.0996 - accuracy: 0.9747 - val_loss: 0.1141 - val_accuracy: 0.9700\n",
      "Epoch 13/30\n",
      "6540/6540 [==============================] - 13s 2ms/step - loss: 0.0947 - accuracy: 0.9758 - val_loss: 0.1104 - val_accuracy: 0.9703\n",
      "Epoch 14/30\n",
      "6540/6540 [==============================] - 12s 2ms/step - loss: 0.0903 - accuracy: 0.9770 - val_loss: 0.1073 - val_accuracy: 0.9711\n",
      "Epoch 15/30\n",
      "6540/6540 [==============================] - 13s 2ms/step - loss: 0.0863 - accuracy: 0.9779 - val_loss: 0.1050 - val_accuracy: 0.9715\n",
      "Epoch 16/30\n",
      "6540/6540 [==============================] - 13s 2ms/step - loss: 0.0826 - accuracy: 0.9790 - val_loss: 0.1032 - val_accuracy: 0.9722\n",
      "Epoch 17/30\n",
      "6540/6540 [==============================] - 13s 2ms/step - loss: 0.0792 - accuracy: 0.9799 - val_loss: 0.1015 - val_accuracy: 0.9725\n",
      "Epoch 18/30\n",
      "6540/6540 [==============================] - 12s 2ms/step - loss: 0.0760 - accuracy: 0.9807 - val_loss: 0.0987 - val_accuracy: 0.9739\n",
      "Epoch 19/30\n",
      "6540/6540 [==============================] - 12s 2ms/step - loss: 0.0732 - accuracy: 0.9815 - val_loss: 0.0974 - val_accuracy: 0.9740\n",
      "Epoch 20/30\n",
      "6540/6540 [==============================] - 12s 2ms/step - loss: 0.0703 - accuracy: 0.9823 - val_loss: 0.0955 - val_accuracy: 0.9740\n",
      "Epoch 21/30\n",
      "6540/6540 [==============================] - 12s 2ms/step - loss: 0.0676 - accuracy: 0.9831 - val_loss: 0.0962 - val_accuracy: 0.9742\n",
      "Epoch 22/30\n",
      "6540/6540 [==============================] - 12s 2ms/step - loss: 0.0652 - accuracy: 0.9836 - val_loss: 0.0933 - val_accuracy: 0.9750\n",
      "Epoch 23/30\n",
      "6540/6540 [==============================] - 12s 2ms/step - loss: 0.0629 - accuracy: 0.9842 - val_loss: 0.0928 - val_accuracy: 0.9749\n",
      "Epoch 24/30\n",
      "6540/6540 [==============================] - 12s 2ms/step - loss: 0.0607 - accuracy: 0.9849 - val_loss: 0.0921 - val_accuracy: 0.9752\n",
      "Epoch 25/30\n",
      "6540/6540 [==============================] - 12s 2ms/step - loss: 0.0586 - accuracy: 0.9854 - val_loss: 0.0904 - val_accuracy: 0.9759\n",
      "Epoch 26/30\n",
      "6540/6540 [==============================] - 12s 2ms/step - loss: 0.0566 - accuracy: 0.9860 - val_loss: 0.0897 - val_accuracy: 0.9757\n",
      "Epoch 27/30\n",
      "6540/6540 [==============================] - 12s 2ms/step - loss: 0.0547 - accuracy: 0.9866 - val_loss: 0.0875 - val_accuracy: 0.9772\n",
      "Epoch 28/30\n",
      "6540/6540 [==============================] - 12s 2ms/step - loss: 0.0529 - accuracy: 0.9869 - val_loss: 0.0870 - val_accuracy: 0.9771\n",
      "Epoch 29/30\n",
      "6540/6540 [==============================] - 13s 2ms/step - loss: 0.0511 - accuracy: 0.9874 - val_loss: 0.0857 - val_accuracy: 0.9773\n",
      "Epoch 30/30\n",
      "6540/6540 [==============================] - 13s 2ms/step - loss: 0.0495 - accuracy: 0.9879 - val_loss: 0.0853 - val_accuracy: 0.9773\n"
     ]
    }
   ],
   "source": [
    "input = keras.layers.Input(shape=[80])\n",
    "hidden1 = keras.layers.Dense(300, activation=keras.activations.relu)(input)\n",
    "hidden2 = keras.layers.Dense(100, activation=keras.activations.relu)(hidden1)\n",
    "output = keras.layers.Dense(26, activation=keras.activations.softmax)(hidden2)\n",
    "modelWithPca = keras.Model(inputs=input, outputs=output)\n",
    "\n",
    "modelWithPca.compile(\n",
    "    loss=\"sparse_categorical_crossentropy\",\n",
    "    optimizer=keras.optimizers.SGD(),\n",
    "    metrics=[\"accuracy\"],\n",
    ")\n",
    "history = modelWithPca.fit(XTrainTransformed, yTrain, epochs=30, validation_data=(XValidTransformed, yValid))"
   ]
  },
  {
   "cell_type": "markdown",
   "metadata": {},
   "source": [
    "Evaluating the model"
   ]
  },
  {
   "cell_type": "markdown",
   "metadata": {},
   "source": [
    "There was an approximately 3 minutes decrease in training time in comparison to the equivalent model with 784 dimensions with effectively the same accuracy (reduced from 97.7% to 97.6%)"
   ]
  },
  {
   "cell_type": "code",
   "execution_count": 22,
   "metadata": {},
   "outputs": [
    {
     "name": "stdout",
     "output_type": "stream",
     "text": [
      "2907/2907 [==============================] - 4s 1ms/step - loss: 0.0900 - accuracy: 0.9768\n"
     ]
    },
    {
     "data": {
      "text/plain": [
       "[0.0900423601269722, 0.9767767190933228]"
      ]
     },
     "execution_count": 22,
     "metadata": {},
     "output_type": "execute_result"
    }
   ],
   "source": [
    "modelWithPca.evaluate(XTestTransformed, yTest)"
   ]
  },
  {
   "cell_type": "markdown",
   "metadata": {},
   "source": [
    "Testing with 10 times less neurons and an additional hidden layer with 10 neurons. This was a test to see if decreasing neurons but increasing layers in a way that reduced the total no. of weights could potentially work. This one was not up to the mark (Time decrease of approx 1min with accuracy of 94.4%)"
   ]
  },
  {
   "cell_type": "code",
   "execution_count": 23,
   "metadata": {},
   "outputs": [
    {
     "name": "stdout",
     "output_type": "stream",
     "text": [
      "Epoch 1/30\n",
      "6540/6540 [==============================] - 11s 2ms/step - loss: 1.3666 - accuracy: 0.6103 - val_loss: 0.6813 - val_accuracy: 0.8084\n",
      "Epoch 2/30\n",
      "6540/6540 [==============================] - 11s 2ms/step - loss: 0.5486 - accuracy: 0.8472 - val_loss: 0.4457 - val_accuracy: 0.8745\n",
      "Epoch 3/30\n",
      "6540/6540 [==============================] - 10s 2ms/step - loss: 0.4136 - accuracy: 0.8849 - val_loss: 0.3731 - val_accuracy: 0.8964\n",
      "Epoch 4/30\n",
      "6540/6540 [==============================] - 11s 2ms/step - loss: 0.3545 - accuracy: 0.9019 - val_loss: 0.3275 - val_accuracy: 0.9081\n",
      "Epoch 5/30\n",
      "6540/6540 [==============================] - 10s 2ms/step - loss: 0.3178 - accuracy: 0.9114 - val_loss: 0.2986 - val_accuracy: 0.9165\n",
      "Epoch 6/30\n",
      "6540/6540 [==============================] - 11s 2ms/step - loss: 0.2934 - accuracy: 0.9186 - val_loss: 0.2817 - val_accuracy: 0.9208\n",
      "Epoch 7/30\n",
      "6540/6540 [==============================] - 11s 2ms/step - loss: 0.2748 - accuracy: 0.9242 - val_loss: 0.2643 - val_accuracy: 0.9263\n",
      "Epoch 8/30\n",
      "6540/6540 [==============================] - 11s 2ms/step - loss: 0.2610 - accuracy: 0.9279 - val_loss: 0.2573 - val_accuracy: 0.9286\n",
      "Epoch 9/30\n",
      "6540/6540 [==============================] - 11s 2ms/step - loss: 0.2510 - accuracy: 0.9308 - val_loss: 0.2474 - val_accuracy: 0.9310\n",
      "Epoch 10/30\n",
      "6540/6540 [==============================] - 10s 2ms/step - loss: 0.2426 - accuracy: 0.9333 - val_loss: 0.2432 - val_accuracy: 0.9335\n",
      "Epoch 11/30\n",
      "6540/6540 [==============================] - 10s 2ms/step - loss: 0.2364 - accuracy: 0.9348 - val_loss: 0.2352 - val_accuracy: 0.9349\n",
      "Epoch 12/30\n",
      "6540/6540 [==============================] - 11s 2ms/step - loss: 0.2313 - accuracy: 0.9367 - val_loss: 0.2331 - val_accuracy: 0.9363\n",
      "Epoch 13/30\n",
      "6540/6540 [==============================] - 11s 2ms/step - loss: 0.2265 - accuracy: 0.9380 - val_loss: 0.2290 - val_accuracy: 0.9367\n",
      "Epoch 14/30\n",
      "6540/6540 [==============================] - 11s 2ms/step - loss: 0.2225 - accuracy: 0.9390 - val_loss: 0.2251 - val_accuracy: 0.9373\n",
      "Epoch 15/30\n",
      "6540/6540 [==============================] - 11s 2ms/step - loss: 0.2192 - accuracy: 0.9398 - val_loss: 0.2287 - val_accuracy: 0.9368\n",
      "Epoch 16/30\n",
      "6540/6540 [==============================] - 11s 2ms/step - loss: 0.2163 - accuracy: 0.9406 - val_loss: 0.2246 - val_accuracy: 0.9381\n",
      "Epoch 17/30\n",
      "6540/6540 [==============================] - 11s 2ms/step - loss: 0.2133 - accuracy: 0.9417 - val_loss: 0.2190 - val_accuracy: 0.9400\n",
      "Epoch 18/30\n",
      "6540/6540 [==============================] - 11s 2ms/step - loss: 0.2107 - accuracy: 0.9421 - val_loss: 0.2150 - val_accuracy: 0.9408\n",
      "Epoch 19/30\n",
      "6540/6540 [==============================] - 11s 2ms/step - loss: 0.2083 - accuracy: 0.9427 - val_loss: 0.2123 - val_accuracy: 0.9418\n",
      "Epoch 20/30\n",
      "6540/6540 [==============================] - 11s 2ms/step - loss: 0.2065 - accuracy: 0.9434 - val_loss: 0.2117 - val_accuracy: 0.9423\n",
      "Epoch 21/30\n",
      "6540/6540 [==============================] - 11s 2ms/step - loss: 0.2044 - accuracy: 0.9434 - val_loss: 0.2103 - val_accuracy: 0.9430\n",
      "Epoch 22/30\n",
      "6540/6540 [==============================] - 11s 2ms/step - loss: 0.2025 - accuracy: 0.9440 - val_loss: 0.2099 - val_accuracy: 0.9425\n",
      "Epoch 23/30\n",
      "6540/6540 [==============================] - 11s 2ms/step - loss: 0.2007 - accuracy: 0.9447 - val_loss: 0.2087 - val_accuracy: 0.9428\n",
      "Epoch 24/30\n",
      "6540/6540 [==============================] - 11s 2ms/step - loss: 0.1990 - accuracy: 0.9454 - val_loss: 0.2069 - val_accuracy: 0.9435\n",
      "Epoch 25/30\n",
      "6540/6540 [==============================] - 11s 2ms/step - loss: 0.1974 - accuracy: 0.9459 - val_loss: 0.2045 - val_accuracy: 0.9438\n",
      "Epoch 26/30\n",
      "6540/6540 [==============================] - 10s 2ms/step - loss: 0.1962 - accuracy: 0.9461 - val_loss: 0.2082 - val_accuracy: 0.9438\n",
      "Epoch 27/30\n",
      "6540/6540 [==============================] - 11s 2ms/step - loss: 0.1947 - accuracy: 0.9466 - val_loss: 0.2040 - val_accuracy: 0.9442\n",
      "Epoch 28/30\n",
      "6540/6540 [==============================] - 11s 2ms/step - loss: 0.1933 - accuracy: 0.9470 - val_loss: 0.2025 - val_accuracy: 0.9446\n",
      "Epoch 29/30\n",
      "6540/6540 [==============================] - 11s 2ms/step - loss: 0.1919 - accuracy: 0.9473 - val_loss: 0.2011 - val_accuracy: 0.9452\n",
      "Epoch 30/30\n",
      "6540/6540 [==============================] - 11s 2ms/step - loss: 0.1912 - accuracy: 0.9472 - val_loss: 0.1992 - val_accuracy: 0.9454\n"
     ]
    }
   ],
   "source": [
    "input = keras.layers.Input(shape=[80])\n",
    "hidden1 = keras.layers.Dense(30, activation=keras.activations.relu)(input)\n",
    "hidden2 = keras.layers.Dense(30, activation=keras.activations.relu)(hidden1)\n",
    "hidden3 = keras.layers.Dense(10, activation=keras.activations.relu)(hidden2)\n",
    "output = keras.layers.Dense(26, activation=keras.activations.softmax)(hidden3)\n",
    "modelWithPca = keras.Model(inputs=input, outputs=output)\n",
    "\n",
    "modelWithPca.compile(\n",
    "    loss=\"sparse_categorical_crossentropy\",\n",
    "    optimizer=keras.optimizers.SGD(),\n",
    "    metrics=[\"accuracy\"],\n",
    ")\n",
    "history = modelWithPca.fit(XTrainTransformed, yTrain, epochs=30, validation_data=(XValidTransformed, yValid))"
   ]
  },
  {
   "cell_type": "markdown",
   "metadata": {},
   "source": [
    "Evaluating"
   ]
  },
  {
   "cell_type": "code",
   "execution_count": 24,
   "metadata": {},
   "outputs": [
    {
     "name": "stdout",
     "output_type": "stream",
     "text": [
      "2907/2907 [==============================] - 3s 1ms/step - loss: 0.2074 - accuracy: 0.9442\n"
     ]
    },
    {
     "data": {
      "text/plain": [
       "[0.2073644995689392, 0.9441995620727539]"
      ]
     },
     "execution_count": 24,
     "metadata": {},
     "output_type": "execute_result"
    }
   ],
   "source": [
    "modelWithPca.evaluate(XTestTransformed, yTest)"
   ]
  },
  {
   "cell_type": "markdown",
   "metadata": {},
   "source": [
    "Now using a Supervised Feature Extraction Technique: Linear Discriminant Analysis. In most situations, LDA performs better than PCA but the shape of this dataset did not allow that"
   ]
  },
  {
   "cell_type": "code",
   "execution_count": 25,
   "metadata": {},
   "outputs": [
    {
     "name": "stdout",
     "output_type": "stream",
     "text": [
      "Epoch 1/30\n",
      "6540/6540 [==============================] - 14s 2ms/step - loss: 0.7047 - accuracy: 0.8147 - val_loss: 0.4527 - val_accuracy: 0.8738\n",
      "Epoch 2/30\n",
      "6540/6540 [==============================] - 13s 2ms/step - loss: 0.3992 - accuracy: 0.8891 - val_loss: 0.3579 - val_accuracy: 0.8970\n",
      "Epoch 3/30\n",
      "6540/6540 [==============================] - 12s 2ms/step - loss: 0.3283 - accuracy: 0.9084 - val_loss: 0.3053 - val_accuracy: 0.9140\n",
      "Epoch 4/30\n",
      "6540/6540 [==============================] - 12s 2ms/step - loss: 0.2881 - accuracy: 0.9197 - val_loss: 0.2764 - val_accuracy: 0.9212\n",
      "Epoch 5/30\n",
      "6540/6540 [==============================] - 12s 2ms/step - loss: 0.2617 - accuracy: 0.9269 - val_loss: 0.2571 - val_accuracy: 0.9270\n",
      "Epoch 6/30\n",
      "6540/6540 [==============================] - 12s 2ms/step - loss: 0.2432 - accuracy: 0.9323 - val_loss: 0.2418 - val_accuracy: 0.9316\n",
      "Epoch 7/30\n",
      "6540/6540 [==============================] - 12s 2ms/step - loss: 0.2291 - accuracy: 0.9357 - val_loss: 0.2315 - val_accuracy: 0.9347\n",
      "Epoch 8/30\n",
      "6540/6540 [==============================] - 12s 2ms/step - loss: 0.2181 - accuracy: 0.9392 - val_loss: 0.2233 - val_accuracy: 0.9363\n",
      "Epoch 9/30\n",
      "6540/6540 [==============================] - 12s 2ms/step - loss: 0.2092 - accuracy: 0.9415 - val_loss: 0.2152 - val_accuracy: 0.9397\n",
      "Epoch 10/30\n",
      "6540/6540 [==============================] - 12s 2ms/step - loss: 0.2012 - accuracy: 0.9434 - val_loss: 0.2105 - val_accuracy: 0.9399\n",
      "Epoch 11/30\n",
      "6540/6540 [==============================] - 12s 2ms/step - loss: 0.1947 - accuracy: 0.9454 - val_loss: 0.2069 - val_accuracy: 0.9404\n",
      "Epoch 12/30\n",
      "6540/6540 [==============================] - 12s 2ms/step - loss: 0.1889 - accuracy: 0.9469 - val_loss: 0.2034 - val_accuracy: 0.9423\n",
      "Epoch 13/30\n",
      "6540/6540 [==============================] - 12s 2ms/step - loss: 0.1840 - accuracy: 0.9483 - val_loss: 0.2000 - val_accuracy: 0.9433\n",
      "Epoch 14/30\n",
      "6540/6540 [==============================] - 12s 2ms/step - loss: 0.1788 - accuracy: 0.9496 - val_loss: 0.1952 - val_accuracy: 0.9451\n",
      "Epoch 15/30\n",
      "6540/6540 [==============================] - 12s 2ms/step - loss: 0.1747 - accuracy: 0.9509 - val_loss: 0.1917 - val_accuracy: 0.9457\n",
      "Epoch 16/30\n",
      "6540/6540 [==============================] - 12s 2ms/step - loss: 0.1707 - accuracy: 0.9522 - val_loss: 0.1920 - val_accuracy: 0.9450\n",
      "Epoch 17/30\n",
      "6540/6540 [==============================] - 12s 2ms/step - loss: 0.1671 - accuracy: 0.9531 - val_loss: 0.1875 - val_accuracy: 0.9467\n",
      "Epoch 18/30\n",
      "6540/6540 [==============================] - 12s 2ms/step - loss: 0.1636 - accuracy: 0.9539 - val_loss: 0.1853 - val_accuracy: 0.9481\n",
      "Epoch 19/30\n",
      "6540/6540 [==============================] - 13s 2ms/step - loss: 0.1605 - accuracy: 0.9546 - val_loss: 0.1854 - val_accuracy: 0.9473\n",
      "Epoch 20/30\n",
      "6540/6540 [==============================] - 12s 2ms/step - loss: 0.1575 - accuracy: 0.9557 - val_loss: 0.1814 - val_accuracy: 0.9488\n",
      "Epoch 21/30\n",
      "6540/6540 [==============================] - 12s 2ms/step - loss: 0.1544 - accuracy: 0.9564 - val_loss: 0.1815 - val_accuracy: 0.9488\n",
      "Epoch 22/30\n",
      "6540/6540 [==============================] - 12s 2ms/step - loss: 0.1515 - accuracy: 0.9573 - val_loss: 0.1812 - val_accuracy: 0.9485\n",
      "Epoch 23/30\n",
      "6540/6540 [==============================] - 12s 2ms/step - loss: 0.1492 - accuracy: 0.9578 - val_loss: 0.1771 - val_accuracy: 0.9500\n",
      "Epoch 24/30\n",
      "6540/6540 [==============================] - 12s 2ms/step - loss: 0.1464 - accuracy: 0.9582 - val_loss: 0.1778 - val_accuracy: 0.9491\n",
      "Epoch 25/30\n",
      "6540/6540 [==============================] - 12s 2ms/step - loss: 0.1439 - accuracy: 0.9593 - val_loss: 0.1752 - val_accuracy: 0.9507\n",
      "Epoch 26/30\n",
      "6540/6540 [==============================] - 12s 2ms/step - loss: 0.1416 - accuracy: 0.9595 - val_loss: 0.1765 - val_accuracy: 0.9500\n",
      "Epoch 27/30\n",
      "6540/6540 [==============================] - 12s 2ms/step - loss: 0.1392 - accuracy: 0.9606 - val_loss: 0.1744 - val_accuracy: 0.9506\n",
      "Epoch 28/30\n",
      "6540/6540 [==============================] - 12s 2ms/step - loss: 0.1373 - accuracy: 0.9611 - val_loss: 0.1720 - val_accuracy: 0.9517\n",
      "Epoch 29/30\n",
      "6540/6540 [==============================] - 12s 2ms/step - loss: 0.1353 - accuracy: 0.9614 - val_loss: 0.1731 - val_accuracy: 0.9508\n",
      "Epoch 30/30\n",
      "6540/6540 [==============================] - 12s 2ms/step - loss: 0.1330 - accuracy: 0.9621 - val_loss: 0.1719 - val_accuracy: 0.9511\n"
     ]
    }
   ],
   "source": [
    "from sklearn.discriminant_analysis import LinearDiscriminantAnalysis\n",
    "\n",
    "lda = LinearDiscriminantAnalysis(n_components=25)\n",
    "\n",
    "XTrainLda = lda.fit_transform(XTrain, yTrain)\n",
    "XValidLda = lda.transform(XValid)\n",
    "XTestLda = lda.transform(XTest)\n",
    "\n",
    "input = keras.layers.Input(shape=[25])\n",
    "hidden1 = keras.layers.Dense(300, activation=keras.activations.relu)(input)\n",
    "hidden2 = keras.layers.Dense(100, activation=keras.activations.relu)(hidden1)\n",
    "output = keras.layers.Dense(26, activation=keras.activations.softmax)(hidden2)\n",
    "modelWithLda = keras.Model(inputs=input, outputs=output)\n",
    "\n",
    "modelWithLda.compile(\n",
    "    loss=\"sparse_categorical_crossentropy\",\n",
    "    optimizer=keras.optimizers.SGD(),\n",
    "    metrics=[\"accuracy\"],\n",
    ")\n",
    "\n",
    "history = modelWithLda.fit(XTrainLda, yTrain, epochs=30, validation_data=(XValidLda, yValid))"
   ]
  },
  {
   "cell_type": "markdown",
   "metadata": {},
   "source": [
    "The model performed worse not because of a problem inherent with LDA but because of the difference in the no. of dimensions and the no. of classes in this dataset. "
   ]
  },
  {
   "cell_type": "markdown",
   "metadata": {},
   "source": [
    "LDA, because of the Mathematics behind it, can reduce the dimensions to at most the minimum between the no. of Classes - 1 and the no. of original dimensions. In this dataset they were 26 and 784 respectively, so LDA could go at most 25, which could not retain as much information as needed about the original 784"
   ]
  },
  {
   "cell_type": "code",
   "execution_count": 26,
   "metadata": {},
   "outputs": [
    {
     "name": "stdout",
     "output_type": "stream",
     "text": [
      "2907/2907 [==============================] - 4s 1ms/step - loss: 0.1794 - accuracy: 0.9483\n"
     ]
    },
    {
     "data": {
      "text/plain": [
       "[0.17941415309906006, 0.9482743740081787]"
      ]
     },
     "execution_count": 26,
     "metadata": {},
     "output_type": "execute_result"
    }
   ],
   "source": [
    "modelWithLda.evaluate(XTestLda, yTest)"
   ]
  },
  {
   "cell_type": "markdown",
   "metadata": {},
   "source": [
    "Just as a test, let's see what happens if we apply LDA to the reduced dataset after PCA"
   ]
  },
  {
   "cell_type": "code",
   "execution_count": 27,
   "metadata": {},
   "outputs": [
    {
     "name": "stdout",
     "output_type": "stream",
     "text": [
      "Epoch 1/30\n",
      "6540/6540 [==============================] - 13s 2ms/step - loss: 0.7091 - accuracy: 0.8117 - val_loss: 0.4498 - val_accuracy: 0.8737\n",
      "Epoch 2/30\n",
      "6540/6540 [==============================] - 12s 2ms/step - loss: 0.3991 - accuracy: 0.8882 - val_loss: 0.3517 - val_accuracy: 0.9000\n",
      "Epoch 3/30\n",
      "6540/6540 [==============================] - 12s 2ms/step - loss: 0.3257 - accuracy: 0.9088 - val_loss: 0.3019 - val_accuracy: 0.9152\n",
      "Epoch 4/30\n",
      "6540/6540 [==============================] - 12s 2ms/step - loss: 0.2851 - accuracy: 0.9198 - val_loss: 0.2730 - val_accuracy: 0.9222\n",
      "Epoch 5/30\n",
      "6540/6540 [==============================] - 12s 2ms/step - loss: 0.2594 - accuracy: 0.9272 - val_loss: 0.2523 - val_accuracy: 0.9286\n",
      "Epoch 6/30\n",
      "6540/6540 [==============================] - 12s 2ms/step - loss: 0.2413 - accuracy: 0.9321 - val_loss: 0.2395 - val_accuracy: 0.9311\n",
      "Epoch 7/30\n",
      "6540/6540 [==============================] - 12s 2ms/step - loss: 0.2277 - accuracy: 0.9357 - val_loss: 0.2280 - val_accuracy: 0.9354\n",
      "Epoch 8/30\n",
      "6540/6540 [==============================] - 12s 2ms/step - loss: 0.2168 - accuracy: 0.9391 - val_loss: 0.2216 - val_accuracy: 0.9380\n",
      "Epoch 9/30\n",
      "6540/6540 [==============================] - 12s 2ms/step - loss: 0.2079 - accuracy: 0.9412 - val_loss: 0.2132 - val_accuracy: 0.9395\n",
      "Epoch 10/30\n",
      "6540/6540 [==============================] - 12s 2ms/step - loss: 0.2004 - accuracy: 0.9435 - val_loss: 0.2071 - val_accuracy: 0.9412\n",
      "Epoch 11/30\n",
      "6540/6540 [==============================] - 12s 2ms/step - loss: 0.1941 - accuracy: 0.9451 - val_loss: 0.2036 - val_accuracy: 0.9424\n",
      "Epoch 12/30\n",
      "6540/6540 [==============================] - 12s 2ms/step - loss: 0.1885 - accuracy: 0.9468 - val_loss: 0.1995 - val_accuracy: 0.9435\n",
      "Epoch 13/30\n",
      "6540/6540 [==============================] - 12s 2ms/step - loss: 0.1833 - accuracy: 0.9485 - val_loss: 0.1971 - val_accuracy: 0.9434\n",
      "Epoch 14/30\n",
      "6540/6540 [==============================] - 12s 2ms/step - loss: 0.1785 - accuracy: 0.9498 - val_loss: 0.1948 - val_accuracy: 0.9444\n",
      "Epoch 15/30\n",
      "6540/6540 [==============================] - 12s 2ms/step - loss: 0.1741 - accuracy: 0.9509 - val_loss: 0.1911 - val_accuracy: 0.9460\n",
      "Epoch 16/30\n",
      "6540/6540 [==============================] - 12s 2ms/step - loss: 0.1701 - accuracy: 0.9519 - val_loss: 0.1884 - val_accuracy: 0.9465\n",
      "Epoch 17/30\n",
      "6540/6540 [==============================] - 12s 2ms/step - loss: 0.1667 - accuracy: 0.9528 - val_loss: 0.1860 - val_accuracy: 0.9475\n",
      "Epoch 18/30\n",
      "6540/6540 [==============================] - 12s 2ms/step - loss: 0.1631 - accuracy: 0.9541 - val_loss: 0.1827 - val_accuracy: 0.9489\n",
      "Epoch 19/30\n",
      "6540/6540 [==============================] - 12s 2ms/step - loss: 0.1598 - accuracy: 0.9548 - val_loss: 0.1835 - val_accuracy: 0.9477\n",
      "Epoch 20/30\n",
      "6540/6540 [==============================] - 12s 2ms/step - loss: 0.1567 - accuracy: 0.9558 - val_loss: 0.1810 - val_accuracy: 0.9483\n",
      "Epoch 21/30\n",
      "6540/6540 [==============================] - 12s 2ms/step - loss: 0.1538 - accuracy: 0.9563 - val_loss: 0.1798 - val_accuracy: 0.9495\n",
      "Epoch 22/30\n",
      "6540/6540 [==============================] - 12s 2ms/step - loss: 0.1508 - accuracy: 0.9570 - val_loss: 0.1784 - val_accuracy: 0.9494\n",
      "Epoch 23/30\n",
      "6540/6540 [==============================] - 12s 2ms/step - loss: 0.1483 - accuracy: 0.9574 - val_loss: 0.1756 - val_accuracy: 0.9501\n",
      "Epoch 24/30\n",
      "6540/6540 [==============================] - 12s 2ms/step - loss: 0.1457 - accuracy: 0.9588 - val_loss: 0.1732 - val_accuracy: 0.9507\n",
      "Epoch 25/30\n",
      "6540/6540 [==============================] - 12s 2ms/step - loss: 0.1430 - accuracy: 0.9594 - val_loss: 0.1734 - val_accuracy: 0.9508\n",
      "Epoch 26/30\n",
      "6540/6540 [==============================] - 12s 2ms/step - loss: 0.1409 - accuracy: 0.9601 - val_loss: 0.1742 - val_accuracy: 0.9501\n",
      "Epoch 27/30\n",
      "6540/6540 [==============================] - 12s 2ms/step - loss: 0.1385 - accuracy: 0.9603 - val_loss: 0.1702 - val_accuracy: 0.9522\n",
      "Epoch 28/30\n",
      "6540/6540 [==============================] - 12s 2ms/step - loss: 0.1364 - accuracy: 0.9612 - val_loss: 0.1694 - val_accuracy: 0.9520\n",
      "Epoch 29/30\n",
      "6540/6540 [==============================] - 12s 2ms/step - loss: 0.1342 - accuracy: 0.9620 - val_loss: 0.1690 - val_accuracy: 0.9528\n",
      "Epoch 30/30\n",
      "6540/6540 [==============================] - 12s 2ms/step - loss: 0.1324 - accuracy: 0.9621 - val_loss: 0.1653 - val_accuracy: 0.9537\n"
     ]
    }
   ],
   "source": [
    "lda = LinearDiscriminantAnalysis(n_components=25)\n",
    "\n",
    "XTrainLdaPca = lda.fit_transform(XTrainLda, yTrain)\n",
    "XValidLdaPca = lda.transform(XValidLda)\n",
    "XTestLdaPca = lda.transform(XTestLda)\n",
    "\n",
    "input = keras.layers.Input(shape=[25])\n",
    "hidden1 = keras.layers.Dense(300, activation=keras.activations.relu)(input)\n",
    "hidden2 = keras.layers.Dense(100, activation=keras.activations.relu)(hidden1)\n",
    "output = keras.layers.Dense(26, activation=keras.activations.softmax)(hidden2)\n",
    "modelWithLdaPca = keras.Model(inputs=input, outputs=output)\n",
    "\n",
    "modelWithLdaPca.compile(\n",
    "    loss=\"sparse_categorical_crossentropy\",\n",
    "    optimizer=keras.optimizers.SGD(),\n",
    "    metrics=[\"accuracy\"],\n",
    ")\n",
    "\n",
    "history = modelWithLdaPca.fit(XTrainLdaPca, yTrain, epochs=30, validation_data=(XValidLdaPca, yValid))"
   ]
  },
  {
   "cell_type": "markdown",
   "metadata": {},
   "source": [
    "This somehow turned out slightly better with both a reduce in time and slightly improved accuracy. Was it just because of the randomness while initializing the weights or is there some reason?"
   ]
  },
  {
   "cell_type": "code",
   "execution_count": 28,
   "metadata": {},
   "outputs": [
    {
     "name": "stdout",
     "output_type": "stream",
     "text": [
      "2907/2907 [==============================] - 4s 1ms/step - loss: 0.1741 - accuracy: 0.9514\n"
     ]
    },
    {
     "data": {
      "text/plain": [
       "[0.17408370971679688, 0.9513815641403198]"
      ]
     },
     "execution_count": 28,
     "metadata": {},
     "output_type": "execute_result"
    }
   ],
   "source": [
    "modelWithLdaPca.evaluate(XTestLdaPca, yTest)"
   ]
  }
 ],
 "metadata": {
  "kernelspec": {
   "display_name": "base",
   "language": "python",
   "name": "python3"
  },
  "language_info": {
   "codemirror_mode": {
    "name": "ipython",
    "version": 3
   },
   "file_extension": ".py",
   "mimetype": "text/x-python",
   "name": "python",
   "nbconvert_exporter": "python",
   "pygments_lexer": "ipython3",
   "version": "3.11.5"
  },
  "orig_nbformat": 4
 },
 "nbformat": 4,
 "nbformat_minor": 2
}
