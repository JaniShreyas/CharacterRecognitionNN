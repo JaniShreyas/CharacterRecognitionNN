{
 "cells": [
  {
   "cell_type": "code",
   "execution_count": 10,
   "metadata": {},
   "outputs": [],
   "source": [
    "import numpy as np\n",
    "import matplotlib.pyplot as plt\n",
    "import pandas as pd\n",
    "from tensorflow import keras\n",
    "from sklearn.model_selection import train_test_split\n",
    "from sklearn.decomposition import PCA"
   ]
  },
  {
   "cell_type": "code",
   "execution_count": 11,
   "metadata": {},
   "outputs": [
    {
     "data": {
      "text/plain": [
       "pandas.core.frame.DataFrame"
      ]
     },
     "execution_count": 11,
     "metadata": {},
     "output_type": "execute_result"
    }
   ],
   "source": [
    "df = pd.read_csv(\"handwritten_data_785.csv\")\n",
    "type(df)"
   ]
  },
  {
   "cell_type": "code",
   "execution_count": 12,
   "metadata": {},
   "outputs": [],
   "source": [
    "arr = np.array(df)\n",
    "data = arr[:, 1:] / 255\n",
    "target = arr[:, 0]"
   ]
  },
  {
   "cell_type": "code",
   "execution_count": 13,
   "metadata": {},
   "outputs": [],
   "source": [
    "# input = keras.layers.Input(shape=[784])\n",
    "# hidden1 = keras.layers.Dense(300, activation=keras.activations.relu)(input)\n",
    "# hidden2 = keras.layers.Dense(100, activation=keras.activations.relu)(hidden1)\n",
    "# output = keras.layers.Dense(26, activation=keras.activations.softmax)(hidden2)\n",
    "# model = keras.Model(inputs = input, outputs = output)\n",
    "\n",
    "# model.compile(loss = keras.losses.sparse_categorical_crossentropy, optimizer=keras.optimizers.SGD(), metrics = keras.metrics.Accuracy())\n",
    "\n",
    "XTrainFull, XTest, yTrainFull, yTest = train_test_split(data, target)\n",
    "XTrain, XValid, yTrain, yValid = train_test_split(XTrainFull, yTrainFull)"
   ]
  },
  {
   "cell_type": "code",
   "execution_count": 14,
   "metadata": {},
   "outputs": [
    {
     "name": "stdout",
     "output_type": "stream",
     "text": [
      "Epoch 1/30\n",
      "6540/6540 [==============================] - 19s 3ms/step - loss: 0.7064 - accuracy: 0.8121 - val_loss: 0.4270 - val_accuracy: 0.8892\n",
      "Epoch 2/30\n",
      "6540/6540 [==============================] - 15s 2ms/step - loss: 0.3562 - accuracy: 0.9056 - val_loss: 0.3071 - val_accuracy: 0.9196\n",
      "Epoch 3/30\n",
      "6540/6540 [==============================] - 21s 3ms/step - loss: 0.2661 - accuracy: 0.9300 - val_loss: 0.2383 - val_accuracy: 0.9372\n",
      "Epoch 4/30\n",
      "6540/6540 [==============================] - 19s 3ms/step - loss: 0.2175 - accuracy: 0.9432 - val_loss: 0.2053 - val_accuracy: 0.9456\n",
      "Epoch 5/30\n",
      "6540/6540 [==============================] - 16s 2ms/step - loss: 0.1871 - accuracy: 0.9512 - val_loss: 0.1866 - val_accuracy: 0.9511\n",
      "Epoch 6/30\n",
      "6540/6540 [==============================] - 16s 2ms/step - loss: 0.1661 - accuracy: 0.9566 - val_loss: 0.1681 - val_accuracy: 0.9557\n",
      "Epoch 7/30\n",
      "6540/6540 [==============================] - 17s 3ms/step - loss: 0.1503 - accuracy: 0.9609 - val_loss: 0.1572 - val_accuracy: 0.9591\n",
      "Epoch 8/30\n",
      "6540/6540 [==============================] - 22s 3ms/step - loss: 0.1375 - accuracy: 0.9645 - val_loss: 0.1498 - val_accuracy: 0.9609\n",
      "Epoch 9/30\n",
      "6540/6540 [==============================] - 26s 4ms/step - loss: 0.1274 - accuracy: 0.9669 - val_loss: 0.1371 - val_accuracy: 0.9643\n",
      "Epoch 10/30\n",
      "6540/6540 [==============================] - 18s 3ms/step - loss: 0.1184 - accuracy: 0.9695 - val_loss: 0.1344 - val_accuracy: 0.9647\n",
      "Epoch 11/30\n",
      "6540/6540 [==============================] - 20s 3ms/step - loss: 0.1110 - accuracy: 0.9713 - val_loss: 0.1293 - val_accuracy: 0.9656\n",
      "Epoch 12/30\n",
      "6540/6540 [==============================] - 19s 3ms/step - loss: 0.1041 - accuracy: 0.9736 - val_loss: 0.1236 - val_accuracy: 0.9673\n",
      "Epoch 13/30\n",
      "6540/6540 [==============================] - 21s 3ms/step - loss: 0.0982 - accuracy: 0.9749 - val_loss: 0.1187 - val_accuracy: 0.9683\n",
      "Epoch 14/30\n",
      "6540/6540 [==============================] - 20s 3ms/step - loss: 0.0930 - accuracy: 0.9763 - val_loss: 0.1146 - val_accuracy: 0.9697\n",
      "Epoch 15/30\n",
      "6540/6540 [==============================] - 17s 3ms/step - loss: 0.0878 - accuracy: 0.9780 - val_loss: 0.1118 - val_accuracy: 0.9704\n",
      "Epoch 16/30\n",
      "6540/6540 [==============================] - 17s 3ms/step - loss: 0.0836 - accuracy: 0.9790 - val_loss: 0.1094 - val_accuracy: 0.9712\n",
      "Epoch 17/30\n",
      "6540/6540 [==============================] - 15s 2ms/step - loss: 0.0796 - accuracy: 0.9801 - val_loss: 0.1074 - val_accuracy: 0.9716\n",
      "Epoch 18/30\n",
      "6540/6540 [==============================] - 20s 3ms/step - loss: 0.0758 - accuracy: 0.9811 - val_loss: 0.1049 - val_accuracy: 0.9725\n",
      "Epoch 19/30\n",
      "6540/6540 [==============================] - 19s 3ms/step - loss: 0.0722 - accuracy: 0.9817 - val_loss: 0.1046 - val_accuracy: 0.9720\n",
      "Epoch 20/30\n",
      "6540/6540 [==============================] - 21s 3ms/step - loss: 0.0690 - accuracy: 0.9827 - val_loss: 0.1016 - val_accuracy: 0.9729\n",
      "Epoch 21/30\n",
      "6540/6540 [==============================] - 21s 3ms/step - loss: 0.0660 - accuracy: 0.9836 - val_loss: 0.1007 - val_accuracy: 0.9732\n",
      "Epoch 22/30\n",
      "6540/6540 [==============================] - 20s 3ms/step - loss: 0.0631 - accuracy: 0.9842 - val_loss: 0.0962 - val_accuracy: 0.9754\n",
      "Epoch 23/30\n",
      "6540/6540 [==============================] - 19s 3ms/step - loss: 0.0606 - accuracy: 0.9851 - val_loss: 0.0957 - val_accuracy: 0.9750\n",
      "Epoch 24/30\n",
      "6540/6540 [==============================] - 18s 3ms/step - loss: 0.0577 - accuracy: 0.9859 - val_loss: 0.0958 - val_accuracy: 0.9750\n",
      "Epoch 25/30\n",
      "6540/6540 [==============================] - 23s 4ms/step - loss: 0.0555 - accuracy: 0.9863 - val_loss: 0.0924 - val_accuracy: 0.9759\n",
      "Epoch 26/30\n",
      "6540/6540 [==============================] - 16s 2ms/step - loss: 0.0532 - accuracy: 0.9871 - val_loss: 0.0915 - val_accuracy: 0.9766\n",
      "Epoch 27/30\n",
      "6540/6540 [==============================] - 17s 3ms/step - loss: 0.0509 - accuracy: 0.9876 - val_loss: 0.0897 - val_accuracy: 0.9767\n",
      "Epoch 28/30\n",
      "6540/6540 [==============================] - 26s 4ms/step - loss: 0.0488 - accuracy: 0.9882 - val_loss: 0.0905 - val_accuracy: 0.9761\n",
      "Epoch 29/30\n",
      "6540/6540 [==============================] - 28s 4ms/step - loss: 0.0471 - accuracy: 0.9886 - val_loss: 0.0918 - val_accuracy: 0.9762\n",
      "Epoch 30/30\n",
      "6540/6540 [==============================] - 26s 4ms/step - loss: 0.0450 - accuracy: 0.9894 - val_loss: 0.0890 - val_accuracy: 0.9772\n"
     ]
    }
   ],
   "source": [
    "# Build a simple mlp model\n",
    "input = keras.layers.Input(shape=[784])\n",
    "hidden1 = keras.layers.Dense(300, activation=keras.activations.relu)(input)\n",
    "hidden2 = keras.layers.Dense(100, activation=keras.activations.relu)(hidden1)\n",
    "output = keras.layers.Dense(26, activation=keras.activations.softmax)(hidden2)\n",
    "model = keras.Model(inputs=input, outputs=output)\n",
    "\n",
    "model.compile(\n",
    "    loss=\"sparse_categorical_crossentropy\",\n",
    "    optimizer=keras.optimizers.SGD(),\n",
    "    metrics=[\"accuracy\"],\n",
    ")\n",
    "\n",
    "history = model.fit(XTrain, yTrain, epochs=30, validation_data=(XValid, yValid))"
   ]
  },
  {
   "cell_type": "code",
   "execution_count": 15,
   "metadata": {},
   "outputs": [
    {
     "name": "stdout",
     "output_type": "stream",
     "text": [
      "1/1 [==============================] - 0s 257ms/step\n",
      "[[0.   0.   0.   0.   0.   0.   0.   0.   0.   0.   0.   1.   0.   0.\n",
      "  0.   0.   0.   0.   0.   0.   0.   0.   0.   0.   0.   0.  ]\n",
      " [0.   0.   0.   0.   0.   0.   0.   0.   0.   0.   0.   0.   0.   0.\n",
      "  0.   0.   0.   0.   0.   0.98 0.   0.   0.   0.   0.02 0.  ]\n",
      " [0.   0.   0.   0.   0.   0.   0.   0.   0.   0.   0.   0.   0.   0.\n",
      "  1.   0.   0.   0.   0.   0.   0.   0.   0.   0.   0.   0.  ]]\n",
      "[11, 19, 14]\n"
     ]
    }
   ],
   "source": [
    "yPred = model.predict(XTest[:3]).round(2)\n",
    "print(yPred)\n",
    "print(\n",
    "    [\n",
    "        j\n",
    "        for i in range(len(yPred))\n",
    "        for j in range(len(yPred[0]))\n",
    "        if yPred[i, j] == max(yPred[i])\n",
    "    ]\n",
    ")"
   ]
  },
  {
   "cell_type": "code",
   "execution_count": 16,
   "metadata": {},
   "outputs": [
    {
     "name": "stdout",
     "output_type": "stream",
     "text": [
      "Epoch 1/30\n",
      "6540/6540 [==============================] - 18s 3ms/step - loss: 1.1985 - accuracy: 0.6683 - val_loss: 0.7282 - val_accuracy: 0.8025\n",
      "Epoch 2/30\n",
      "6540/6540 [==============================] - 13s 2ms/step - loss: 0.6286 - accuracy: 0.8302 - val_loss: 0.5631 - val_accuracy: 0.8467\n",
      "Epoch 3/30\n",
      "6540/6540 [==============================] - 12s 2ms/step - loss: 0.5105 - accuracy: 0.8632 - val_loss: 0.4870 - val_accuracy: 0.8676\n",
      "Epoch 4/30\n",
      "6540/6540 [==============================] - 13s 2ms/step - loss: 0.4416 - accuracy: 0.8817 - val_loss: 0.4254 - val_accuracy: 0.8854\n",
      "Epoch 5/30\n",
      "6540/6540 [==============================] - 12s 2ms/step - loss: 0.3943 - accuracy: 0.8944 - val_loss: 0.3830 - val_accuracy: 0.8958\n",
      "Epoch 6/30\n",
      "6540/6540 [==============================] - 12s 2ms/step - loss: 0.3614 - accuracy: 0.9031 - val_loss: 0.3560 - val_accuracy: 0.9042\n",
      "Epoch 7/30\n",
      "6540/6540 [==============================] - 12s 2ms/step - loss: 0.3375 - accuracy: 0.9100 - val_loss: 0.3339 - val_accuracy: 0.9101\n",
      "Epoch 8/30\n",
      "6540/6540 [==============================] - 12s 2ms/step - loss: 0.3201 - accuracy: 0.9149 - val_loss: 0.3197 - val_accuracy: 0.9139\n",
      "Epoch 9/30\n",
      "6540/6540 [==============================] - 14s 2ms/step - loss: 0.3061 - accuracy: 0.9191 - val_loss: 0.3046 - val_accuracy: 0.9183\n",
      "Epoch 10/30\n",
      "6540/6540 [==============================] - 19s 3ms/step - loss: 0.2942 - accuracy: 0.9223 - val_loss: 0.3035 - val_accuracy: 0.9185\n",
      "Epoch 11/30\n",
      "6540/6540 [==============================] - 16s 2ms/step - loss: 0.2848 - accuracy: 0.9248 - val_loss: 0.2925 - val_accuracy: 0.9212\n",
      "Epoch 12/30\n",
      "6540/6540 [==============================] - 13s 2ms/step - loss: 0.2762 - accuracy: 0.9273 - val_loss: 0.2795 - val_accuracy: 0.9258\n",
      "Epoch 13/30\n",
      "6540/6540 [==============================] - 14s 2ms/step - loss: 0.2688 - accuracy: 0.9291 - val_loss: 0.2818 - val_accuracy: 0.9248\n",
      "Epoch 14/30\n",
      "6540/6540 [==============================] - 13s 2ms/step - loss: 0.2623 - accuracy: 0.9309 - val_loss: 0.2750 - val_accuracy: 0.9267\n",
      "Epoch 15/30\n",
      "6540/6540 [==============================] - 12s 2ms/step - loss: 0.2565 - accuracy: 0.9320 - val_loss: 0.2732 - val_accuracy: 0.9270\n",
      "Epoch 16/30\n",
      "6540/6540 [==============================] - 13s 2ms/step - loss: 0.2511 - accuracy: 0.9338 - val_loss: 0.2605 - val_accuracy: 0.9307\n",
      "Epoch 17/30\n",
      "6540/6540 [==============================] - 13s 2ms/step - loss: 0.2468 - accuracy: 0.9344 - val_loss: 0.2608 - val_accuracy: 0.9307\n",
      "Epoch 18/30\n",
      "6540/6540 [==============================] - 13s 2ms/step - loss: 0.2432 - accuracy: 0.9358 - val_loss: 0.2596 - val_accuracy: 0.9304\n",
      "Epoch 19/30\n",
      "6540/6540 [==============================] - 13s 2ms/step - loss: 0.2392 - accuracy: 0.9368 - val_loss: 0.2546 - val_accuracy: 0.9325\n",
      "Epoch 20/30\n",
      "6540/6540 [==============================] - 13s 2ms/step - loss: 0.2362 - accuracy: 0.9381 - val_loss: 0.2576 - val_accuracy: 0.9313\n",
      "Epoch 21/30\n",
      "6540/6540 [==============================] - 15s 2ms/step - loss: 0.2329 - accuracy: 0.9387 - val_loss: 0.2534 - val_accuracy: 0.9324\n",
      "Epoch 22/30\n",
      "6540/6540 [==============================] - 15s 2ms/step - loss: 0.2302 - accuracy: 0.9388 - val_loss: 0.2573 - val_accuracy: 0.9303\n",
      "Epoch 23/30\n",
      "6540/6540 [==============================] - 13s 2ms/step - loss: 0.2277 - accuracy: 0.9398 - val_loss: 0.2472 - val_accuracy: 0.9343\n",
      "Epoch 24/30\n",
      "6540/6540 [==============================] - 14s 2ms/step - loss: 0.2262 - accuracy: 0.9397 - val_loss: 0.2548 - val_accuracy: 0.9318\n",
      "Epoch 25/30\n",
      "6540/6540 [==============================] - 13s 2ms/step - loss: 0.2235 - accuracy: 0.9408 - val_loss: 0.2438 - val_accuracy: 0.9350\n",
      "Epoch 26/30\n",
      "6540/6540 [==============================] - 13s 2ms/step - loss: 0.2212 - accuracy: 0.9409 - val_loss: 0.2396 - val_accuracy: 0.9361\n",
      "Epoch 27/30\n",
      "6540/6540 [==============================] - 12s 2ms/step - loss: 0.2196 - accuracy: 0.9417 - val_loss: 0.2384 - val_accuracy: 0.9363\n",
      "Epoch 28/30\n",
      "6540/6540 [==============================] - 12s 2ms/step - loss: 0.2175 - accuracy: 0.9423 - val_loss: 0.2383 - val_accuracy: 0.9376\n",
      "Epoch 29/30\n",
      "6540/6540 [==============================] - 12s 2ms/step - loss: 0.2158 - accuracy: 0.9428 - val_loss: 0.2374 - val_accuracy: 0.9366\n",
      "Epoch 30/30\n",
      "6540/6540 [==============================] - 13s 2ms/step - loss: 0.2137 - accuracy: 0.9435 - val_loss: 0.2436 - val_accuracy: 0.9341\n"
     ]
    }
   ],
   "source": [
    "input = keras.layers.Input(shape=[784])\n",
    "hidden1 = keras.layers.Dense(30, activation=keras.activations.relu)(input)\n",
    "hidden2 = keras.layers.Dense(10, activation=keras.activations.relu)(hidden1)\n",
    "output = keras.layers.Dense(26, activation=keras.activations.softmax)(hidden2)\n",
    "model1 = keras.Model(inputs=input, outputs=output)\n",
    "\n",
    "model1.compile(\n",
    "    loss=\"sparse_categorical_crossentropy\",\n",
    "    optimizer=keras.optimizers.SGD(),\n",
    "    metrics=[\"accuracy\"],\n",
    ")\n",
    "\n",
    "history = model1.fit(XTrain, yTrain, epochs=30, validation_data=(XValid, yValid))"
   ]
  },
  {
   "cell_type": "code",
   "execution_count": 17,
   "metadata": {},
   "outputs": [
    {
     "name": "stdout",
     "output_type": "stream",
     "text": [
      "1/1 [==============================] - 0s 68ms/step\n",
      "[11, 19, 14]\n",
      "[11 19 14]\n"
     ]
    }
   ],
   "source": [
    "yPred = model1.predict(XTest[:3])\n",
    "print(\n",
    "    [\n",
    "        j\n",
    "        for i in range(len(yPred))\n",
    "        for j in range(len(yPred[0]))\n",
    "        if yPred[i, j] == max(yPred[i])\n",
    "    ]\n",
    ")\n",
    "print(yTest[:3])"
   ]
  },
  {
   "cell_type": "code",
   "execution_count": 18,
   "metadata": {},
   "outputs": [
    {
     "data": {
      "text/plain": [
       "[<matplotlib.lines.Line2D at 0x28d97519a80>]"
      ]
     },
     "execution_count": 18,
     "metadata": {},
     "output_type": "execute_result"
    },
    {
     "data": {
      "image/png": "[encoded data removed]",
      "text/plain": [
       "<Figure size 640x480 with 1 Axes>"
      ]
     },
     "metadata": {},
     "output_type": "display_data"
    }
   ],
   "source": [
    "pca = PCA()\n",
    "pca.fit(XTrain)\n",
    "variance = pca.explained_variance_\n",
    "\n",
    "plt.plot(variance)"
   ]
  },
  {
   "cell_type": "code",
   "execution_count": 19,
   "metadata": {},
   "outputs": [],
   "source": [
    "pca = PCA(n_components=80)\n",
    "pca.fit(XTrain)\n",
    "variance = pca.explained_variance_\n",
    "# pd.DataFrame(variance).to_csv('Explained_variance.csv')"
   ]
  },
  {
   "cell_type": "code",
   "execution_count": 20,
   "metadata": {},
   "outputs": [
    {
     "data": {
      "text/plain": [
       "[<matplotlib.lines.Line2D at 0x28a4256ab60>]"
      ]
     },
     "execution_count": 20,
     "metadata": {},
     "output_type": "execute_result"
    },
    {
     "data": {
      "image/png": "[encoded data removed]",
      "text/plain": [
       "<Figure size 640x480 with 1 Axes>"
      ]
     },
     "metadata": {},
     "output_type": "display_data"
    }
   ],
   "source": [
    "plt.plot(variance, \"r-\")"
   ]
  },
  {
   "cell_type": "code",
   "execution_count": 21,
   "metadata": {},
   "outputs": [
    {
     "data": {
      "text/plain": [
       "(80, 784)"
      ]
     },
     "execution_count": 21,
     "metadata": {},
     "output_type": "execute_result"
    }
   ],
   "source": [
    "components = pca.components_\n",
    "components.shape"
   ]
  },
  {
   "cell_type": "code",
   "execution_count": 22,
   "metadata": {},
   "outputs": [],
   "source": [
    "XTrainTransformed = pca.transform(XTrain)\n",
    "XValidTransformed = pca.transform(XValid)\n",
    "XTestTransformed = pca.transform(XTest)"
   ]
  },
  {
   "cell_type": "code",
   "execution_count": null,
   "metadata": {},
   "outputs": [
    {
     "name": "stdout",
     "output_type": "stream",
     "text": [
      "(209270, 400) (69757, 400) (93010, 400)\n"
     ]
    },
    {
     "data": {
      "text/plain": [
       "array([[ 9.94196815e-04, -6.53897522e-06, -9.06861064e-05, ...,\n",
       "         4.70849494e-07, -4.46724529e-06,  3.64066039e-06],\n",
       "       [-6.53897522e-06,  1.27698809e-03, -2.09581250e-06, ...,\n",
       "         1.08816256e-08, -1.03240826e-07,  8.41379331e-08],\n",
       "       [-9.06861064e-05, -2.09581250e-06,  1.24807333e-03, ...,\n",
       "         1.50912371e-07, -1.43180058e-06,  1.16687115e-06],\n",
       "       ...,\n",
       "       [ 4.70849494e-07,  1.08816256e-08,  1.50912371e-07, ...,\n",
       "         1.27713842e-03,  7.43402275e-09, -6.05848805e-09],\n",
       "       [-4.46724529e-06, -1.03240826e-07, -1.43180058e-06, ...,\n",
       "         7.43402275e-09,  1.27706868e-03,  5.74806865e-08],\n",
       "       [ 3.64066039e-06,  8.41379331e-08,  1.16687115e-06, ...,\n",
       "        -6.05848805e-09,  5.74806865e-08,  1.27709236e-03]])"
      ]
     },
     "execution_count": 21,
     "metadata": {},
     "output_type": "execute_result"
    }
   ],
   "source": [
    "# XTrain = XTrain.T\n",
    "# XValid = XValid.T\n",
    "# XTest = XTest.T\n",
    "\n",
    "# print(XTrain.shape, XValid.shape, XTest.shape)\n",
    "# np.cov(components)"
   ]
  },
  {
   "cell_type": "markdown",
   "metadata": {},
   "source": [
    "With Principal Component Analysis"
   ]
  },
  {
   "cell_type": "code",
   "execution_count": 24,
   "metadata": {},
   "outputs": [
    {
     "name": "stdout",
     "output_type": "stream",
     "text": [
      "Epoch 1/35\n",
      "6540/6540 [==============================] - 16s 2ms/step - loss: 0.6939 - accuracy: 0.8149 - val_loss: 0.3724 - val_accuracy: 0.8985\n",
      "Epoch 2/35\n",
      "6540/6540 [==============================] - 18s 3ms/step - loss: 0.3106 - accuracy: 0.9168 - val_loss: 0.2669 - val_accuracy: 0.9268\n",
      "Epoch 3/35\n",
      "6540/6540 [==============================] - 18s 3ms/step - loss: 0.2369 - accuracy: 0.9378 - val_loss: 0.2181 - val_accuracy: 0.9405\n",
      "Epoch 4/35\n",
      "6540/6540 [==============================] - 19s 3ms/step - loss: 0.1974 - accuracy: 0.9481 - val_loss: 0.1886 - val_accuracy: 0.9495\n",
      "Epoch 5/35\n",
      "6540/6540 [==============================] - 18s 3ms/step - loss: 0.1720 - accuracy: 0.9548 - val_loss: 0.1694 - val_accuracy: 0.9549\n",
      "Epoch 6/35\n",
      "6540/6540 [==============================] - 18s 3ms/step - loss: 0.1540 - accuracy: 0.9596 - val_loss: 0.1561 - val_accuracy: 0.9586\n",
      "Epoch 7/35\n",
      "6540/6540 [==============================] - 22s 3ms/step - loss: 0.1402 - accuracy: 0.9630 - val_loss: 0.1459 - val_accuracy: 0.9615\n",
      "Epoch 8/35\n",
      "6540/6540 [==============================] - 20s 3ms/step - loss: 0.1294 - accuracy: 0.9660 - val_loss: 0.1380 - val_accuracy: 0.9636\n",
      "Epoch 9/35\n",
      "6540/6540 [==============================] - 18s 3ms/step - loss: 0.1204 - accuracy: 0.9683 - val_loss: 0.1320 - val_accuracy: 0.9650\n",
      "Epoch 10/35\n",
      "6540/6540 [==============================] - 21s 3ms/step - loss: 0.1129 - accuracy: 0.9707 - val_loss: 0.1266 - val_accuracy: 0.9662\n",
      "Epoch 11/35\n",
      "6540/6540 [==============================] - 22s 3ms/step - loss: 0.1065 - accuracy: 0.9722 - val_loss: 0.1229 - val_accuracy: 0.9672\n",
      "Epoch 12/35\n",
      "6540/6540 [==============================] - 22s 3ms/step - loss: 0.1006 - accuracy: 0.9739 - val_loss: 0.1187 - val_accuracy: 0.9685\n",
      "Epoch 13/35\n",
      "6540/6540 [==============================] - 21s 3ms/step - loss: 0.0956 - accuracy: 0.9751 - val_loss: 0.1152 - val_accuracy: 0.9697\n",
      "Epoch 14/35\n",
      "6540/6540 [==============================] - 20s 3ms/step - loss: 0.0909 - accuracy: 0.9767 - val_loss: 0.1113 - val_accuracy: 0.9707\n",
      "Epoch 15/35\n",
      "6540/6540 [==============================] - 20s 3ms/step - loss: 0.0868 - accuracy: 0.9779 - val_loss: 0.1096 - val_accuracy: 0.9711\n",
      "Epoch 16/35\n",
      "6540/6540 [==============================] - 18s 3ms/step - loss: 0.0830 - accuracy: 0.9787 - val_loss: 0.1073 - val_accuracy: 0.9719\n",
      "Epoch 17/35\n",
      "6540/6540 [==============================] - 17s 3ms/step - loss: 0.0794 - accuracy: 0.9798 - val_loss: 0.1048 - val_accuracy: 0.9720\n",
      "Epoch 18/35\n",
      "6540/6540 [==============================] - 19s 3ms/step - loss: 0.0761 - accuracy: 0.9808 - val_loss: 0.1028 - val_accuracy: 0.9725\n",
      "Epoch 19/35\n",
      "6540/6540 [==============================] - 19s 3ms/step - loss: 0.0731 - accuracy: 0.9815 - val_loss: 0.1017 - val_accuracy: 0.9733\n",
      "Epoch 20/35\n",
      "6540/6540 [==============================] - 22s 3ms/step - loss: 0.0703 - accuracy: 0.9824 - val_loss: 0.1004 - val_accuracy: 0.9738\n",
      "Epoch 21/35\n",
      "6540/6540 [==============================] - 18s 3ms/step - loss: 0.0676 - accuracy: 0.9831 - val_loss: 0.0984 - val_accuracy: 0.9740\n",
      "Epoch 22/35\n",
      "6540/6540 [==============================] - 15s 2ms/step - loss: 0.0651 - accuracy: 0.9838 - val_loss: 0.0974 - val_accuracy: 0.9746\n",
      "Epoch 23/35\n",
      "6540/6540 [==============================] - 14s 2ms/step - loss: 0.0627 - accuracy: 0.9843 - val_loss: 0.0969 - val_accuracy: 0.9749\n",
      "Epoch 24/35\n",
      "6540/6540 [==============================] - 16s 2ms/step - loss: 0.0605 - accuracy: 0.9852 - val_loss: 0.0959 - val_accuracy: 0.9750\n",
      "Epoch 25/35\n",
      "6540/6540 [==============================] - 16s 2ms/step - loss: 0.0583 - accuracy: 0.9856 - val_loss: 0.0931 - val_accuracy: 0.9757\n",
      "Epoch 26/35\n",
      "6540/6540 [==============================] - 15s 2ms/step - loss: 0.0564 - accuracy: 0.9863 - val_loss: 0.0928 - val_accuracy: 0.9757\n",
      "Epoch 27/35\n",
      "6540/6540 [==============================] - 17s 3ms/step - loss: 0.0543 - accuracy: 0.9867 - val_loss: 0.0916 - val_accuracy: 0.9760\n",
      "Epoch 28/35\n",
      "6540/6540 [==============================] - 15s 2ms/step - loss: 0.0526 - accuracy: 0.9871 - val_loss: 0.0910 - val_accuracy: 0.9765\n",
      "Epoch 29/35\n",
      "6540/6540 [==============================] - 15s 2ms/step - loss: 0.0506 - accuracy: 0.9878 - val_loss: 0.0910 - val_accuracy: 0.9766\n",
      "Epoch 30/35\n",
      "6540/6540 [==============================] - 13s 2ms/step - loss: 0.0489 - accuracy: 0.9883 - val_loss: 0.0898 - val_accuracy: 0.9771\n",
      "Epoch 31/35\n",
      "6540/6540 [==============================] - 12s 2ms/step - loss: 0.0473 - accuracy: 0.9887 - val_loss: 0.0898 - val_accuracy: 0.9772\n",
      "Epoch 32/35\n",
      "6540/6540 [==============================] - 15s 2ms/step - loss: 0.0458 - accuracy: 0.9891 - val_loss: 0.0887 - val_accuracy: 0.9773\n",
      "Epoch 33/35\n",
      "6540/6540 [==============================] - 15s 2ms/step - loss: 0.0443 - accuracy: 0.9895 - val_loss: 0.0871 - val_accuracy: 0.9776\n",
      "Epoch 34/35\n",
      "6540/6540 [==============================] - 17s 3ms/step - loss: 0.0429 - accuracy: 0.9899 - val_loss: 0.0866 - val_accuracy: 0.9782\n",
      "Epoch 35/35\n",
      "6540/6540 [==============================] - 15s 2ms/step - loss: 0.0414 - accuracy: 0.9903 - val_loss: 0.0865 - val_accuracy: 0.9781\n"
     ]
    }
   ],
   "source": [
    "input = keras.layers.Input(shape=[80])\n",
    "hidden1 = keras.layers.Dense(300, activation=keras.activations.relu)(input)\n",
    "hidden2 = keras.layers.Dense(100, activation=keras.activations.relu)(hidden1)\n",
    "output = keras.layers.Dense(26, activation=keras.activations.softmax)(hidden2)\n",
    "modelWithPca = keras.Model(inputs=input, outputs=output)\n",
    "\n",
    "modelWithPca.compile(\n",
    "    loss=\"sparse_categorical_crossentropy\",\n",
    "    optimizer=keras.optimizers.SGD(),\n",
    "    metrics=[\"accuracy\"],\n",
    ")\n",
    "history = modelWithPca.fit(XTrainTransformed, yTrain, epochs=35, validation_data=(XValidTransformed, yValid))"
   ]
  },
  {
   "cell_type": "code",
   "execution_count": 25,
   "metadata": {},
   "outputs": [
    {
     "name": "stdout",
     "output_type": "stream",
     "text": [
      "2907/2907 [==============================] - 6s 2ms/step - loss: 0.0851 - accuracy: 0.9785\n"
     ]
    },
    {
     "data": {
      "text/plain": [
       "[0.0850527435541153, 0.9785076975822449]"
      ]
     },
     "execution_count": 25,
     "metadata": {},
     "output_type": "execute_result"
    }
   ],
   "source": [
    "modelWithPca.evaluate(XTestTransformed, yTest)"
   ]
  },
  {
   "cell_type": "code",
   "execution_count": 27,
   "metadata": {},
   "outputs": [
    {
     "name": "stdout",
     "output_type": "stream",
     "text": [
      "Epoch 1/30\n",
      "6540/6540 [==============================] - 13s 2ms/step - loss: 1.2328 - accuracy: 0.6526 - val_loss: 0.6068 - val_accuracy: 0.8290\n",
      "Epoch 2/30\n",
      "6540/6540 [==============================] - 12s 2ms/step - loss: 0.5096 - accuracy: 0.8575 - val_loss: 0.4377 - val_accuracy: 0.8777\n",
      "Epoch 3/30\n",
      "6540/6540 [==============================] - 10s 2ms/step - loss: 0.4069 - accuracy: 0.8876 - val_loss: 0.3780 - val_accuracy: 0.8946\n",
      "Epoch 4/30\n",
      "6540/6540 [==============================] - 10s 2ms/step - loss: 0.3548 - accuracy: 0.9031 - val_loss: 0.3365 - val_accuracy: 0.9086\n",
      "Epoch 5/30\n",
      "6540/6540 [==============================] - 11s 2ms/step - loss: 0.3227 - accuracy: 0.9119 - val_loss: 0.3081 - val_accuracy: 0.9146\n",
      "Epoch 6/30\n",
      "6540/6540 [==============================] - 11s 2ms/step - loss: 0.3000 - accuracy: 0.9178 - val_loss: 0.2934 - val_accuracy: 0.9194\n",
      "Epoch 7/30\n",
      "6540/6540 [==============================] - 11s 2ms/step - loss: 0.2833 - accuracy: 0.9227 - val_loss: 0.2789 - val_accuracy: 0.9236\n",
      "Epoch 8/30\n",
      "6540/6540 [==============================] - 11s 2ms/step - loss: 0.2708 - accuracy: 0.9256 - val_loss: 0.2691 - val_accuracy: 0.9264\n",
      "Epoch 9/30\n",
      "6540/6540 [==============================] - 11s 2ms/step - loss: 0.2602 - accuracy: 0.9290 - val_loss: 0.2617 - val_accuracy: 0.9281\n",
      "Epoch 10/30\n",
      "6540/6540 [==============================] - 11s 2ms/step - loss: 0.2517 - accuracy: 0.9314 - val_loss: 0.2539 - val_accuracy: 0.9315\n",
      "Epoch 11/30\n",
      "6540/6540 [==============================] - 11s 2ms/step - loss: 0.2445 - accuracy: 0.9332 - val_loss: 0.2489 - val_accuracy: 0.9321\n",
      "Epoch 12/30\n",
      "6540/6540 [==============================] - 11s 2ms/step - loss: 0.2385 - accuracy: 0.9348 - val_loss: 0.2412 - val_accuracy: 0.9347\n",
      "Epoch 13/30\n",
      "6540/6540 [==============================] - 11s 2ms/step - loss: 0.2328 - accuracy: 0.9364 - val_loss: 0.2386 - val_accuracy: 0.9348\n",
      "Epoch 14/30\n",
      "6540/6540 [==============================] - 11s 2ms/step - loss: 0.2280 - accuracy: 0.9380 - val_loss: 0.2323 - val_accuracy: 0.9377\n",
      "Epoch 15/30\n",
      "6540/6540 [==============================] - 11s 2ms/step - loss: 0.2235 - accuracy: 0.9389 - val_loss: 0.2317 - val_accuracy: 0.9378\n",
      "Epoch 16/30\n",
      "6540/6540 [==============================] - 11s 2ms/step - loss: 0.2192 - accuracy: 0.9402 - val_loss: 0.2270 - val_accuracy: 0.9380\n",
      "Epoch 17/30\n",
      "6540/6540 [==============================] - 10s 2ms/step - loss: 0.2159 - accuracy: 0.9415 - val_loss: 0.2233 - val_accuracy: 0.9398\n",
      "Epoch 18/30\n",
      "6540/6540 [==============================] - 10s 2ms/step - loss: 0.2124 - accuracy: 0.9423 - val_loss: 0.2227 - val_accuracy: 0.9401\n",
      "Epoch 19/30\n",
      "6540/6540 [==============================] - 10s 2ms/step - loss: 0.2096 - accuracy: 0.9430 - val_loss: 0.2228 - val_accuracy: 0.9391\n",
      "Epoch 20/30\n",
      "6540/6540 [==============================] - 10s 2ms/step - loss: 0.2073 - accuracy: 0.9442 - val_loss: 0.2182 - val_accuracy: 0.9411\n",
      "Epoch 21/30\n",
      "6540/6540 [==============================] - 11s 2ms/step - loss: 0.2049 - accuracy: 0.9442 - val_loss: 0.2195 - val_accuracy: 0.9397\n",
      "Epoch 22/30\n",
      "6540/6540 [==============================] - 10s 2ms/step - loss: 0.2028 - accuracy: 0.9453 - val_loss: 0.2196 - val_accuracy: 0.9402\n",
      "Epoch 23/30\n",
      "6540/6540 [==============================] - 11s 2ms/step - loss: 0.2008 - accuracy: 0.9458 - val_loss: 0.2123 - val_accuracy: 0.9434\n",
      "Epoch 24/30\n",
      "6540/6540 [==============================] - 10s 2ms/step - loss: 0.1986 - accuracy: 0.9463 - val_loss: 0.2100 - val_accuracy: 0.9433\n",
      "Epoch 25/30\n",
      "6540/6540 [==============================] - 10s 2ms/step - loss: 0.1973 - accuracy: 0.9467 - val_loss: 0.2087 - val_accuracy: 0.9429\n",
      "Epoch 26/30\n",
      "6540/6540 [==============================] - 10s 2ms/step - loss: 0.1957 - accuracy: 0.9473 - val_loss: 0.2071 - val_accuracy: 0.9444\n",
      "Epoch 27/30\n",
      "6540/6540 [==============================] - 11s 2ms/step - loss: 0.1942 - accuracy: 0.9476 - val_loss: 0.2122 - val_accuracy: 0.9427\n",
      "Epoch 28/30\n",
      "6540/6540 [==============================] - 11s 2ms/step - loss: 0.1928 - accuracy: 0.9480 - val_loss: 0.2049 - val_accuracy: 0.9452\n",
      "Epoch 29/30\n",
      "6540/6540 [==============================] - 10s 2ms/step - loss: 0.1916 - accuracy: 0.9484 - val_loss: 0.2099 - val_accuracy: 0.9432\n",
      "Epoch 30/30\n",
      "6540/6540 [==============================] - 10s 2ms/step - loss: 0.1903 - accuracy: 0.9485 - val_loss: 0.2023 - val_accuracy: 0.9459\n"
     ]
    }
   ],
   "source": [
    "input = keras.layers.Input(shape=[80])\n",
    "hidden1 = keras.layers.Dense(30, activation=keras.activations.relu)(input)\n",
    "hidden2 = keras.layers.Dense(30, activation=keras.activations.relu)(hidden1)\n",
    "hidden3 = keras.layers.Dense(10, activation=keras.activations.relu)(hidden2)\n",
    "output = keras.layers.Dense(26, activation=keras.activations.softmax)(hidden3)\n",
    "modelWithPca = keras.Model(inputs=input, outputs=output)\n",
    "\n",
    "modelWithPca.compile(\n",
    "    loss=\"sparse_categorical_crossentropy\",\n",
    "    optimizer=keras.optimizers.SGD(),\n",
    "    metrics=[\"accuracy\"],\n",
    ")\n",
    "history = modelWithPca.fit(XTrainTransformed, yTrain, epochs=30, validation_data=(XValidTransformed, yValid))"
   ]
  },
  {
   "cell_type": "code",
   "execution_count": 29,
   "metadata": {},
   "outputs": [
    {
     "name": "stdout",
     "output_type": "stream",
     "text": [
      "2907/2907 [==============================] - 3s 1ms/step - loss: 0.2008 - accuracy: 0.9457\n"
     ]
    },
    {
     "data": {
      "text/plain": [
       "[0.20075519382953644, 0.9457154870033264]"
      ]
     },
     "execution_count": 29,
     "metadata": {},
     "output_type": "execute_result"
    }
   ],
   "source": [
    "modelWithPca.evaluate(XTestTransformed, yTest)"
   ]
  },
  {
   "cell_type": "markdown",
   "metadata": {},
   "source": [
    "With Linear Discriminant Analysis"
   ]
  },
  {
   "cell_type": "code",
   "execution_count": 30,
   "metadata": {},
   "outputs": [
    {
     "name": "stdout",
     "output_type": "stream",
     "text": [
      "Epoch 1/30\n",
      "6540/6540 [==============================] - 11s 2ms/step - loss: 0.7080 - accuracy: 0.8129 - val_loss: 0.4599 - val_accuracy: 0.8722\n",
      "Epoch 2/30\n",
      "6540/6540 [==============================] - 10s 1ms/step - loss: 0.3978 - accuracy: 0.8885 - val_loss: 0.3642 - val_accuracy: 0.8981\n",
      "Epoch 3/30\n",
      "6540/6540 [==============================] - 10s 1ms/step - loss: 0.3274 - accuracy: 0.9085 - val_loss: 0.3132 - val_accuracy: 0.9129\n",
      "Epoch 4/30\n",
      "6540/6540 [==============================] - 10s 2ms/step - loss: 0.2867 - accuracy: 0.9200 - val_loss: 0.2828 - val_accuracy: 0.9209\n",
      "Epoch 5/30\n",
      "6540/6540 [==============================] - 10s 2ms/step - loss: 0.2605 - accuracy: 0.9270 - val_loss: 0.2636 - val_accuracy: 0.9255\n",
      "Epoch 6/30\n",
      "6540/6540 [==============================] - 10s 2ms/step - loss: 0.2423 - accuracy: 0.9320 - val_loss: 0.2486 - val_accuracy: 0.9296\n",
      "Epoch 7/30\n",
      "6540/6540 [==============================] - 10s 2ms/step - loss: 0.2285 - accuracy: 0.9358 - val_loss: 0.2388 - val_accuracy: 0.9318\n",
      "Epoch 8/30\n",
      "6540/6540 [==============================] - 10s 2ms/step - loss: 0.2176 - accuracy: 0.9386 - val_loss: 0.2298 - val_accuracy: 0.9350\n",
      "Epoch 9/30\n",
      "6540/6540 [==============================] - 10s 1ms/step - loss: 0.2086 - accuracy: 0.9411 - val_loss: 0.2232 - val_accuracy: 0.9364\n",
      "Epoch 10/30\n",
      "6540/6540 [==============================] - 10s 1ms/step - loss: 0.2010 - accuracy: 0.9433 - val_loss: 0.2171 - val_accuracy: 0.9383\n",
      "Epoch 11/30\n",
      "6540/6540 [==============================] - 10s 1ms/step - loss: 0.1946 - accuracy: 0.9453 - val_loss: 0.2130 - val_accuracy: 0.9404\n",
      "Epoch 12/30\n",
      "6540/6540 [==============================] - 10s 2ms/step - loss: 0.1887 - accuracy: 0.9470 - val_loss: 0.2109 - val_accuracy: 0.9402\n",
      "Epoch 13/30\n",
      "6540/6540 [==============================] - 10s 2ms/step - loss: 0.1835 - accuracy: 0.9485 - val_loss: 0.2067 - val_accuracy: 0.9417\n",
      "Epoch 14/30\n",
      "6540/6540 [==============================] - 10s 2ms/step - loss: 0.1789 - accuracy: 0.9496 - val_loss: 0.2042 - val_accuracy: 0.9422\n",
      "Epoch 15/30\n",
      "6540/6540 [==============================] - 10s 2ms/step - loss: 0.1744 - accuracy: 0.9507 - val_loss: 0.2002 - val_accuracy: 0.9430\n",
      "Epoch 16/30\n",
      "6540/6540 [==============================] - 10s 2ms/step - loss: 0.1705 - accuracy: 0.9519 - val_loss: 0.1976 - val_accuracy: 0.9440\n",
      "Epoch 17/30\n",
      "6540/6540 [==============================] - 10s 2ms/step - loss: 0.1667 - accuracy: 0.9530 - val_loss: 0.1950 - val_accuracy: 0.9445\n",
      "Epoch 18/30\n",
      "6540/6540 [==============================] - 10s 2ms/step - loss: 0.1633 - accuracy: 0.9537 - val_loss: 0.1924 - val_accuracy: 0.9454\n",
      "Epoch 19/30\n",
      "6540/6540 [==============================] - 10s 2ms/step - loss: 0.1596 - accuracy: 0.9549 - val_loss: 0.1913 - val_accuracy: 0.9466\n",
      "Epoch 20/30\n",
      "6540/6540 [==============================] - 11s 2ms/step - loss: 0.1567 - accuracy: 0.9556 - val_loss: 0.1905 - val_accuracy: 0.9466\n",
      "Epoch 21/30\n",
      "6540/6540 [==============================] - 10s 2ms/step - loss: 0.1537 - accuracy: 0.9567 - val_loss: 0.1891 - val_accuracy: 0.9463\n",
      "Epoch 22/30\n",
      "6540/6540 [==============================] - 10s 2ms/step - loss: 0.1508 - accuracy: 0.9575 - val_loss: 0.1870 - val_accuracy: 0.9470\n",
      "Epoch 23/30\n",
      "6540/6540 [==============================] - 10s 2ms/step - loss: 0.1482 - accuracy: 0.9578 - val_loss: 0.1851 - val_accuracy: 0.9477\n",
      "Epoch 24/30\n",
      "6540/6540 [==============================] - 10s 2ms/step - loss: 0.1456 - accuracy: 0.9588 - val_loss: 0.1846 - val_accuracy: 0.9477\n",
      "Epoch 25/30\n",
      "6540/6540 [==============================] - 10s 2ms/step - loss: 0.1430 - accuracy: 0.9594 - val_loss: 0.1824 - val_accuracy: 0.9481\n",
      "Epoch 26/30\n",
      "6540/6540 [==============================] - 10s 2ms/step - loss: 0.1407 - accuracy: 0.9602 - val_loss: 0.1821 - val_accuracy: 0.9491\n",
      "Epoch 27/30\n",
      "6540/6540 [==============================] - 10s 2ms/step - loss: 0.1382 - accuracy: 0.9610 - val_loss: 0.1809 - val_accuracy: 0.9490\n",
      "Epoch 28/30\n",
      "6540/6540 [==============================] - 10s 2ms/step - loss: 0.1362 - accuracy: 0.9614 - val_loss: 0.1785 - val_accuracy: 0.9494\n",
      "Epoch 29/30\n",
      "6540/6540 [==============================] - 10s 2ms/step - loss: 0.1342 - accuracy: 0.9620 - val_loss: 0.1788 - val_accuracy: 0.9499\n",
      "Epoch 30/30\n",
      "6540/6540 [==============================] - 10s 2ms/step - loss: 0.1319 - accuracy: 0.9628 - val_loss: 0.1771 - val_accuracy: 0.9503\n",
      "2907/2907 [==============================] - 3s 1ms/step - loss: 0.1785 - accuracy: 0.9497\n"
     ]
    },
    {
     "data": {
      "text/plain": [
       "[0.17851035296916962, 0.9497043490409851]"
      ]
     },
     "execution_count": 30,
     "metadata": {},
     "output_type": "execute_result"
    }
   ],
   "source": [
    "from sklearn.discriminant_analysis import LinearDiscriminantAnalysis\n",
    "\n",
    "lda = LinearDiscriminantAnalysis(n_components=25)\n",
    "\n",
    "XTrainLda = lda.fit_transform(XTrain, yTrain)\n",
    "XValidLda = lda.transform(XValid)\n",
    "XTestLda = lda.transform(XTest)\n",
    "\n",
    "input = keras.layers.Input(shape=[25])\n",
    "hidden1 = keras.layers.Dense(300, activation=keras.activations.relu)(input)\n",
    "hidden2 = keras.layers.Dense(100, activation=keras.activations.relu)(hidden1)\n",
    "output = keras.layers.Dense(26, activation=keras.activations.softmax)(hidden2)\n",
    "modelWithLda = keras.Model(inputs=input, outputs=output)\n",
    "\n",
    "modelWithLda.compile(\n",
    "    loss=\"sparse_categorical_crossentropy\",\n",
    "    optimizer=keras.optimizers.SGD(),\n",
    "    metrics=[\"accuracy\"],\n",
    ")\n",
    "\n",
    "history = modelWithLda.fit(XTrainLda, yTrain, epochs=30, validation_data=(XValidLda, yValid))\n",
    "\n",
    "modelWithLda.evaluate(XTestLda, yTest)"
   ]
  }
 ],
 "metadata": {
  "kernelspec": {
   "display_name": "base",
   "language": "python",
   "name": "python3"
  },
  "language_info": {
   "codemirror_mode": {
    "name": "ipython",
    "version": 3
   },
   "file_extension": ".py",
   "mimetype": "text/x-python",
   "name": "python",
   "nbconvert_exporter": "python",
   "pygments_lexer": "ipython3",
   "version": "3.10.13"
  },
  "orig_nbformat": 4
 },
 "nbformat": 4,
 "nbformat_minor": 2
}
